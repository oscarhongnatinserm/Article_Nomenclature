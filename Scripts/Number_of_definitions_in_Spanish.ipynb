{
 "cells": [
  {
   "cell_type": "code",
   "execution_count": 1,
   "metadata": {},
   "outputs": [
    {
     "name": "stdout",
     "output_type": "stream",
     "text": [
      "\n",
      "  There is a binary version available but the source version is later:\n",
      "       binary  source needs_compilation\n",
      "rlist 0.4.6.1 0.4.6.2             FALSE\n",
      "\n"
     ]
    },
    {
     "name": "stderr",
     "output_type": "stream",
     "text": [
      "installing the source package 'rlist'\n",
      "\n",
      "\n"
     ]
    },
    {
     "name": "stdout",
     "output_type": "stream",
     "text": [
      "\n",
      "  There is a binary version available but the source version is later:\n",
      "           binary source needs_compilation\n",
      "data.table 1.14.0 1.14.2              TRUE\n",
      "\n",
      "  Binaries will be installed\n",
      "package 'data.table' successfully unpacked and MD5 sums checked\n"
     ]
    },
    {
     "name": "stderr",
     "output_type": "stream",
     "text": [
      "Warning message:\n",
      "\"cannot remove prior installation of package 'data.table'\"\n",
      "Warning message in file.copy(savedcopy, lib, recursive = TRUE):\n",
      "\"problème lors de la copie de C:\\Users\\ohongnat\\Anaconda3\\Lib\\R\\library\\00LOCK\\data.table\\libs\\x64\\datatable.dll vers C:\\Users\\ohongnat\\Anaconda3\\Lib\\R\\library\\data.table\\libs\\x64\\datatable.dll: Permission denied\"\n",
      "Warning message:\n",
      "\"restored 'data.table'\"\n"
     ]
    },
    {
     "name": "stdout",
     "output_type": "stream",
     "text": [
      "\n",
      "The downloaded binary packages are in\n",
      "\tC:\\Users\\ohongnat\\AppData\\Local\\Temp\\RtmpWMUr5Z\\downloaded_packages\n"
     ]
    },
    {
     "name": "stderr",
     "output_type": "stream",
     "text": [
      "also installing the dependencies 'cli', 'rlang', 'vctrs'\n",
      "\n",
      "\n"
     ]
    },
    {
     "name": "stdout",
     "output_type": "stream",
     "text": [
      "\n",
      "  There are binary versions available but the source versions are later:\n",
      "      binary source needs_compilation\n",
      "cli    2.5.0  3.4.1              TRUE\n",
      "rlang 0.4.11  1.0.6              TRUE\n",
      "vctrs  0.3.8  0.4.2              TRUE\n",
      "dplyr  1.0.6 1.0.10              TRUE\n",
      "\n",
      "  Binaries will be installed\n",
      "package 'cli' successfully unpacked and MD5 sums checked\n",
      "package 'rlang' successfully unpacked and MD5 sums checked\n"
     ]
    },
    {
     "name": "stderr",
     "output_type": "stream",
     "text": [
      "Warning message:\n",
      "\"cannot remove prior installation of package 'rlang'\"\n",
      "Warning message in file.copy(savedcopy, lib, recursive = TRUE):\n",
      "\"problème lors de la copie de C:\\Users\\ohongnat\\Anaconda3\\Lib\\R\\library\\00LOCK\\rlang\\libs\\x64\\rlang.dll vers C:\\Users\\ohongnat\\Anaconda3\\Lib\\R\\library\\rlang\\libs\\x64\\rlang.dll: Permission denied\"\n",
      "Warning message:\n",
      "\"restored 'rlang'\"\n"
     ]
    },
    {
     "name": "stdout",
     "output_type": "stream",
     "text": [
      "package 'vctrs' successfully unpacked and MD5 sums checked\n"
     ]
    },
    {
     "name": "stderr",
     "output_type": "stream",
     "text": [
      "Warning message:\n",
      "\"cannot remove prior installation of package 'vctrs'\"\n",
      "Warning message in file.copy(savedcopy, lib, recursive = TRUE):\n",
      "\"problème lors de la copie de C:\\Users\\ohongnat\\Anaconda3\\Lib\\R\\library\\00LOCK\\vctrs\\libs\\x64\\vctrs.dll vers C:\\Users\\ohongnat\\Anaconda3\\Lib\\R\\library\\vctrs\\libs\\x64\\vctrs.dll: Permission denied\"\n",
      "Warning message:\n",
      "\"restored 'vctrs'\"\n"
     ]
    },
    {
     "name": "stdout",
     "output_type": "stream",
     "text": [
      "package 'dplyr' successfully unpacked and MD5 sums checked\n"
     ]
    },
    {
     "name": "stderr",
     "output_type": "stream",
     "text": [
      "Warning message:\n",
      "\"cannot remove prior installation of package 'dplyr'\"\n",
      "Warning message in file.copy(savedcopy, lib, recursive = TRUE):\n",
      "\"problème lors de la copie de C:\\Users\\ohongnat\\Anaconda3\\Lib\\R\\library\\00LOCK\\dplyr\\libs\\x64\\dplyr.dll vers C:\\Users\\ohongnat\\Anaconda3\\Lib\\R\\library\\dplyr\\libs\\x64\\dplyr.dll: Permission denied\"\n",
      "Warning message:\n",
      "\"restored 'dplyr'\"\n"
     ]
    },
    {
     "name": "stdout",
     "output_type": "stream",
     "text": [
      "\n",
      "The downloaded binary packages are in\n",
      "\tC:\\Users\\ohongnat\\AppData\\Local\\Temp\\RtmpWMUr5Z\\downloaded_packages\n",
      "package 'XML' successfully unpacked and MD5 sums checked\n"
     ]
    },
    {
     "name": "stderr",
     "output_type": "stream",
     "text": [
      "Warning message:\n",
      "\"cannot remove prior installation of package 'XML'\"\n",
      "Warning message in file.copy(savedcopy, lib, recursive = TRUE):\n",
      "\"problème lors de la copie de C:\\Users\\ohongnat\\Anaconda3\\Lib\\R\\library\\00LOCK\\XML\\libs\\x64\\XML.dll vers C:\\Users\\ohongnat\\Anaconda3\\Lib\\R\\library\\XML\\libs\\x64\\XML.dll: Permission denied\"\n",
      "Warning message:\n",
      "\"restored 'XML'\"\n"
     ]
    },
    {
     "name": "stdout",
     "output_type": "stream",
     "text": [
      "\n",
      "The downloaded binary packages are in\n",
      "\tC:\\Users\\ohongnat\\AppData\\Local\\Temp\\RtmpWMUr5Z\\downloaded_packages\n"
     ]
    },
    {
     "name": "stderr",
     "output_type": "stream",
     "text": [
      "Warning message:\n",
      "\"package 'methods' is not available (for R version 3.6.1)\"\n",
      "Warning message:\n",
      "\"package 'methods' is a base package, and should not be updated\"\n"
     ]
    },
    {
     "name": "stdout",
     "output_type": "stream",
     "text": [
      "package 'xlsx' successfully unpacked and MD5 sums checked\n"
     ]
    },
    {
     "name": "stderr",
     "output_type": "stream",
     "text": [
      "Warning message:\n",
      "\"cannot remove prior installation of package 'xlsx'\"\n",
      "Warning message:\n",
      "\"restored 'xlsx'\"\n"
     ]
    },
    {
     "name": "stdout",
     "output_type": "stream",
     "text": [
      "\n",
      "The downloaded binary packages are in\n",
      "\tC:\\Users\\ohongnat\\AppData\\Local\\Temp\\RtmpWMUr5Z\\downloaded_packages\n",
      "\n",
      "  There is a binary version available but the source version is later:\n",
      "         binary source needs_compilation\n",
      "jsonlite  1.7.2  1.8.2              TRUE\n",
      "\n",
      "  Binaries will be installed\n",
      "package 'jsonlite' successfully unpacked and MD5 sums checked\n"
     ]
    },
    {
     "name": "stderr",
     "output_type": "stream",
     "text": [
      "Warning message:\n",
      "\"cannot remove prior installation of package 'jsonlite'\"\n",
      "Warning message in file.copy(savedcopy, lib, recursive = TRUE):\n",
      "\"problème lors de la copie de C:\\Users\\ohongnat\\Anaconda3\\Lib\\R\\library\\00LOCK\\jsonlite\\libs\\x64\\jsonlite.dll vers C:\\Users\\ohongnat\\Anaconda3\\Lib\\R\\library\\jsonlite\\libs\\x64\\jsonlite.dll: Permission denied\"\n",
      "Warning message:\n",
      "\"restored 'jsonlite'\"\n"
     ]
    },
    {
     "name": "stdout",
     "output_type": "stream",
     "text": [
      "\n",
      "The downloaded binary packages are in\n",
      "\tC:\\Users\\ohongnat\\AppData\\Local\\Temp\\RtmpWMUr5Z\\downloaded_packages\n",
      "package 'writexl' successfully unpacked and MD5 sums checked\n"
     ]
    },
    {
     "name": "stderr",
     "output_type": "stream",
     "text": [
      "Warning message:\n",
      "\"cannot remove prior installation of package 'writexl'\"\n",
      "Warning message in file.copy(savedcopy, lib, recursive = TRUE):\n",
      "\"problème lors de la copie de C:\\Users\\ohongnat\\Anaconda3\\Lib\\R\\library\\00LOCK\\writexl\\libs\\x64\\writexl.dll vers C:\\Users\\ohongnat\\Anaconda3\\Lib\\R\\library\\writexl\\libs\\x64\\writexl.dll: Permission denied\"\n",
      "Warning message:\n",
      "\"restored 'writexl'\"\n"
     ]
    },
    {
     "name": "stdout",
     "output_type": "stream",
     "text": [
      "\n",
      "The downloaded binary packages are in\n",
      "\tC:\\Users\\ohongnat\\AppData\\Local\\Temp\\RtmpWMUr5Z\\downloaded_packages\n",
      "\n",
      "  There is a binary version available but the source version is later:\n",
      "        binary source needs_compilation\n",
      "stringr  1.4.0  1.4.1             FALSE\n",
      "\n"
     ]
    },
    {
     "name": "stderr",
     "output_type": "stream",
     "text": [
      "installing the source package 'stringr'\n",
      "\n",
      "\n",
      "Warning message:\n",
      "\"package 'data.table' was built under R version 3.6.3\"\n",
      "Warning message:\n",
      "\"package 'dplyr' was built under R version 3.6.3\"\n",
      "\n",
      "Attaching package: 'dplyr'\n",
      "\n",
      "\n",
      "The following objects are masked from 'package:data.table':\n",
      "\n",
      "    between, first, last\n",
      "\n",
      "\n",
      "The following objects are masked from 'package:stats':\n",
      "\n",
      "    filter, lag\n",
      "\n",
      "\n",
      "The following objects are masked from 'package:base':\n",
      "\n",
      "    intersect, setdiff, setequal, union\n",
      "\n",
      "\n",
      "Warning message:\n",
      "\"package 'XML' was built under R version 3.6.3\"\n",
      "Warning message:\n",
      "\"package 'xlsx' was built under R version 3.6.3\"\n",
      "Warning message:\n",
      "\"package 'writexl' was built under R version 3.6.3\"\n"
     ]
    }
   ],
   "source": [
    "### NUMBER OF DEFINITIONS\n",
    "\n",
    "\n",
    "# We launch the config file with the installation of the R libraries\n",
    "source(\"config.R\")\n",
    "\n",
    "\n",
    "# INPUTS : \"es_product1.xml\".\n",
    "\n",
    "\n",
    "# OUTPUTS : \n",
    "# \"number_of_disorders_with_spanish_definition\"; \"percentage_of_disorders_with_spanish_definition\"."
   ]
  },
  {
   "cell_type": "code",
   "execution_count": 2,
   "metadata": {},
   "outputs": [],
   "source": [
    "# We launch the libraries\n",
    "library(jsonlite)\n",
    "library(rlist)\n",
    "library(data.table)\n",
    "library(dplyr)\n",
    "library(XML)\n",
    "library(methods)"
   ]
  },
  {
   "cell_type": "code",
   "execution_count": 3,
   "metadata": {},
   "outputs": [],
   "source": [
    "# We open the file xml in Spanish\n",
    "product1_es_cross_jdbor_evo=xmlParse(\"es_product1.xml\")\n",
    "product1_es_cross_jdbor_evo=xmlToList(product1_es_cross_jdbor_evo)\n",
    "\n",
    "# We remove the last element of the list, which is the numeric count of all elements of the list\n",
    "product1_es_cross_jdbor_evo=product1_es_cross_jdbor_evo$DisorderList\n",
    "product1_es_cross_jdbor_evo=product1_es_cross_jdbor_evo[-length(product1_es_cross_jdbor_evo)]\n",
    "\n",
    "### Our list for working\n",
    "indice_list=1\n",
    "product1_de=list()\n",
    "for (i in 1:length(product1_es_cross_jdbor_evo))\n",
    "{\n",
    "  product1_de[[indice_list]]=product1_es_cross_jdbor_evo[[i]]\n",
    "  indice_list=indice_list+1\n",
    "}\n",
    "# Each element in the list is a disorder"
   ]
  },
  {
   "cell_type": "code",
   "execution_count": 4,
   "metadata": {},
   "outputs": [],
   "source": [
    "# We only select the active clinical entities \n",
    "# Head of classification (flag=128), Historical entities (flag=512) & On-line (flag=1)\n",
    "indice_list=1\n",
    "spanish_active_clinical_entities=list()\n",
    "for (i in 1:length(product1_de))\n",
    "    if (product1_de[[i]]$DisorderFlagList$DisorderFlag$Value=='1' |\n",
    "        product1_de[[i]]$DisorderFlagList$DisorderFlag$Value=='128' |\n",
    "        product1_de[[i]]$DisorderFlagList$DisorderFlag$Value=='512')\n",
    "    {\n",
    "      spanish_active_clinical_entities[[indice_list]]=product1_de[[i]]\n",
    "      indice_list=indice_list+1\n",
    "    }"
   ]
  },
  {
   "cell_type": "code",
   "execution_count": 5,
   "metadata": {},
   "outputs": [
    {
     "data": {
      "text/html": [
       "6227"
      ],
      "text/latex": [
       "6227"
      ],
      "text/markdown": [
       "6227"
      ],
      "text/plain": [
       "[1] 6227"
      ]
     },
     "metadata": {},
     "output_type": "display_data"
    }
   ],
   "source": [
    "# We only want to work on disorders\n",
    "indice_list=1\n",
    "spanish_disorders=list()\n",
    "for (i in 1:length(spanish_active_clinical_entities))\n",
    "    if (spanish_active_clinical_entities[[i]]$DisorderGroup$.attrs=='36547')\n",
    "    {\n",
    "      spanish_disorders[[indice_list]]=spanish_active_clinical_entities[[i]]\n",
    "      indice_list=indice_list+1\n",
    "    }\n",
    "\n",
    "# Number of disorders\n",
    "number_spanish_disorders=length(spanish_disorders)\n",
    "print(paste0(\"The number of disorders in Spanish is \", number_spanish_disorders))"
   ]
  },
  {
   "cell_type": "code",
   "execution_count": 6,
   "metadata": {},
   "outputs": [],
   "source": [
    "# We look for the disorders that have a definition in their datas\n",
    "indice_list=1\n",
    "disorder_with_spanish_definition=list()\n",
    "for (i in 1:length(spanish_disorders))\n",
    "  if (!is.null(spanish_disorders[[i]]$SummaryInformationList$SummaryInformation$\n",
    "               TextSectionList$TextSection$Contents))\n",
    "  {\n",
    "    disorder_with_spanish_definition[[indice_list]]=data.frame(spanish_disorders[[i]]$OrphaCode)\n",
    "    indice_list=indice_list+1\n",
    "  }"
   ]
  },
  {
   "cell_type": "code",
   "execution_count": 7,
   "metadata": {},
   "outputs": [
    {
     "data": {
      "text/html": [
       "5217"
      ],
      "text/latex": [
       "5217"
      ],
      "text/markdown": [
       "5217"
      ],
      "text/plain": [
       "[1] 5217"
      ]
     },
     "metadata": {},
     "output_type": "display_data"
    }
   ],
   "source": [
    "# Number of disorders with a definition in Spanish\n",
    "number_of_disorders_with_spanish_definition=length(disorder_with_spanish_definition)\n",
    "print(paste0(\"The number of disorders with a definition in Spanish is \", number_of_disorders_with_spanish_definition))"
   ]
  },
  {
   "cell_type": "code",
   "execution_count": 8,
   "metadata": {},
   "outputs": [
    {
     "data": {
      "text/html": [
       "83.7803115464911"
      ],
      "text/latex": [
       "83.7803115464911"
      ],
      "text/markdown": [
       "83.7803115464911"
      ],
      "text/plain": [
       "[1] 83.78031"
      ]
     },
     "metadata": {},
     "output_type": "display_data"
    }
   ],
   "source": [
    "# Percentage of disorders with a definition in Spanish\n",
    "percentage_of_disorders_with_spanish_definition=number_of_disorders_with_spanish_definition/number_spanish_disorders*100\n",
    "print(paste0(\"The percentage of disorders with a definition in Spanish is \", percentage_of_disorders_with_spanish_definition, \"%\"))"
   ]
  }
 ],
 "metadata": {
  "kernelspec": {
   "display_name": "R",
   "language": "R",
   "name": "ir"
  },
  "language_info": {
   "codemirror_mode": "r",
   "file_extension": ".r",
   "mimetype": "text/x-r-source",
   "name": "R",
   "pygments_lexer": "r",
   "version": "3.6.1"
  }
 },
 "nbformat": 4,
 "nbformat_minor": 4
}
