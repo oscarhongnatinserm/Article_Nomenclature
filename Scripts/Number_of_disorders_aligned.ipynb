{
 "cells": [
  {
   "cell_type": "code",
   "execution_count": 1,
   "metadata": {},
   "outputs": [
    {
     "name": "stdout",
     "output_type": "stream",
     "text": [
      "\n",
      "  There is a binary version available but the source version is later:\n",
      "       binary  source needs_compilation\n",
      "rlist 0.4.6.1 0.4.6.2             FALSE\n",
      "\n"
     ]
    },
    {
     "name": "stderr",
     "output_type": "stream",
     "text": [
      "installing the source package 'rlist'\n",
      "\n",
      "\n"
     ]
    },
    {
     "name": "stdout",
     "output_type": "stream",
     "text": [
      "\n",
      "  There is a binary version available but the source version is later:\n",
      "           binary source needs_compilation\n",
      "data.table 1.14.0 1.14.4              TRUE\n",
      "\n",
      "  Binaries will be installed\n",
      "package 'data.table' successfully unpacked and MD5 sums checked\n"
     ]
    },
    {
     "name": "stderr",
     "output_type": "stream",
     "text": [
      "Warning message:\n",
      "\"cannot remove prior installation of package 'data.table'\"\n",
      "Warning message in file.copy(savedcopy, lib, recursive = TRUE):\n",
      "\"problème lors de la copie de C:\\Users\\ohongnat\\Anaconda3\\Lib\\R\\library\\00LOCK\\data.table\\libs\\x64\\datatable.dll vers C:\\Users\\ohongnat\\Anaconda3\\Lib\\R\\library\\data.table\\libs\\x64\\datatable.dll: Permission denied\"\n",
      "Warning message:\n",
      "\"restored 'data.table'\"\n"
     ]
    },
    {
     "name": "stdout",
     "output_type": "stream",
     "text": [
      "\n",
      "The downloaded binary packages are in\n",
      "\tC:\\Users\\ohongnat\\AppData\\Local\\Temp\\Rtmpkna42Y\\downloaded_packages\n"
     ]
    },
    {
     "name": "stderr",
     "output_type": "stream",
     "text": [
      "also installing the dependencies 'cli', 'rlang', 'vctrs'\n",
      "\n",
      "\n"
     ]
    },
    {
     "name": "stdout",
     "output_type": "stream",
     "text": [
      "\n",
      "  There are binary versions available but the source versions are later:\n",
      "      binary source needs_compilation\n",
      "cli    2.5.0  3.4.1              TRUE\n",
      "rlang 0.4.11  1.0.6              TRUE\n",
      "vctrs  0.3.8  0.4.2              TRUE\n",
      "dplyr  1.0.6 1.0.10              TRUE\n",
      "\n",
      "  Binaries will be installed\n",
      "package 'cli' successfully unpacked and MD5 sums checked\n",
      "package 'rlang' successfully unpacked and MD5 sums checked\n"
     ]
    },
    {
     "name": "stderr",
     "output_type": "stream",
     "text": [
      "Warning message:\n",
      "\"cannot remove prior installation of package 'rlang'\"\n",
      "Warning message in file.copy(savedcopy, lib, recursive = TRUE):\n",
      "\"problème lors de la copie de C:\\Users\\ohongnat\\Anaconda3\\Lib\\R\\library\\00LOCK\\rlang\\libs\\x64\\rlang.dll vers C:\\Users\\ohongnat\\Anaconda3\\Lib\\R\\library\\rlang\\libs\\x64\\rlang.dll: Permission denied\"\n",
      "Warning message:\n",
      "\"restored 'rlang'\"\n"
     ]
    },
    {
     "name": "stdout",
     "output_type": "stream",
     "text": [
      "package 'vctrs' successfully unpacked and MD5 sums checked\n"
     ]
    },
    {
     "name": "stderr",
     "output_type": "stream",
     "text": [
      "Warning message:\n",
      "\"cannot remove prior installation of package 'vctrs'\"\n",
      "Warning message in file.copy(savedcopy, lib, recursive = TRUE):\n",
      "\"problème lors de la copie de C:\\Users\\ohongnat\\Anaconda3\\Lib\\R\\library\\00LOCK\\vctrs\\libs\\x64\\vctrs.dll vers C:\\Users\\ohongnat\\Anaconda3\\Lib\\R\\library\\vctrs\\libs\\x64\\vctrs.dll: Permission denied\"\n",
      "Warning message:\n",
      "\"restored 'vctrs'\"\n"
     ]
    },
    {
     "name": "stdout",
     "output_type": "stream",
     "text": [
      "package 'dplyr' successfully unpacked and MD5 sums checked\n"
     ]
    },
    {
     "name": "stderr",
     "output_type": "stream",
     "text": [
      "Warning message:\n",
      "\"cannot remove prior installation of package 'dplyr'\"\n",
      "Warning message in file.copy(savedcopy, lib, recursive = TRUE):\n",
      "\"problème lors de la copie de C:\\Users\\ohongnat\\Anaconda3\\Lib\\R\\library\\00LOCK\\dplyr\\libs\\x64\\dplyr.dll vers C:\\Users\\ohongnat\\Anaconda3\\Lib\\R\\library\\dplyr\\libs\\x64\\dplyr.dll: Permission denied\"\n",
      "Warning message:\n",
      "\"restored 'dplyr'\"\n"
     ]
    },
    {
     "name": "stdout",
     "output_type": "stream",
     "text": [
      "\n",
      "The downloaded binary packages are in\n",
      "\tC:\\Users\\ohongnat\\AppData\\Local\\Temp\\Rtmpkna42Y\\downloaded_packages\n",
      "package 'XML' successfully unpacked and MD5 sums checked\n"
     ]
    },
    {
     "name": "stderr",
     "output_type": "stream",
     "text": [
      "Warning message:\n",
      "\"cannot remove prior installation of package 'XML'\"\n",
      "Warning message in file.copy(savedcopy, lib, recursive = TRUE):\n",
      "\"problème lors de la copie de C:\\Users\\ohongnat\\Anaconda3\\Lib\\R\\library\\00LOCK\\XML\\libs\\x64\\XML.dll vers C:\\Users\\ohongnat\\Anaconda3\\Lib\\R\\library\\XML\\libs\\x64\\XML.dll: Permission denied\"\n",
      "Warning message:\n",
      "\"restored 'XML'\"\n"
     ]
    },
    {
     "name": "stdout",
     "output_type": "stream",
     "text": [
      "\n",
      "The downloaded binary packages are in\n",
      "\tC:\\Users\\ohongnat\\AppData\\Local\\Temp\\Rtmpkna42Y\\downloaded_packages\n"
     ]
    },
    {
     "name": "stderr",
     "output_type": "stream",
     "text": [
      "Warning message:\n",
      "\"package 'methods' is not available (for R version 3.6.1)\"\n",
      "Warning message:\n",
      "\"package 'methods' is a base package, and should not be updated\"\n"
     ]
    },
    {
     "name": "stdout",
     "output_type": "stream",
     "text": [
      "package 'xlsx' successfully unpacked and MD5 sums checked\n"
     ]
    },
    {
     "name": "stderr",
     "output_type": "stream",
     "text": [
      "Warning message:\n",
      "\"cannot remove prior installation of package 'xlsx'\"\n",
      "Warning message:\n",
      "\"restored 'xlsx'\"\n"
     ]
    },
    {
     "name": "stdout",
     "output_type": "stream",
     "text": [
      "\n",
      "The downloaded binary packages are in\n",
      "\tC:\\Users\\ohongnat\\AppData\\Local\\Temp\\Rtmpkna42Y\\downloaded_packages\n",
      "\n",
      "  There is a binary version available but the source version is later:\n",
      "         binary source needs_compilation\n",
      "jsonlite  1.7.2  1.8.2              TRUE\n",
      "\n",
      "  Binaries will be installed\n",
      "package 'jsonlite' successfully unpacked and MD5 sums checked\n"
     ]
    },
    {
     "name": "stderr",
     "output_type": "stream",
     "text": [
      "Warning message:\n",
      "\"cannot remove prior installation of package 'jsonlite'\"\n",
      "Warning message in file.copy(savedcopy, lib, recursive = TRUE):\n",
      "\"problème lors de la copie de C:\\Users\\ohongnat\\Anaconda3\\Lib\\R\\library\\00LOCK\\jsonlite\\libs\\x64\\jsonlite.dll vers C:\\Users\\ohongnat\\Anaconda3\\Lib\\R\\library\\jsonlite\\libs\\x64\\jsonlite.dll: Permission denied\"\n",
      "Warning message:\n",
      "\"restored 'jsonlite'\"\n"
     ]
    },
    {
     "name": "stdout",
     "output_type": "stream",
     "text": [
      "\n",
      "The downloaded binary packages are in\n",
      "\tC:\\Users\\ohongnat\\AppData\\Local\\Temp\\Rtmpkna42Y\\downloaded_packages\n",
      "\n",
      "  There is a binary version available but the source version is later:\n",
      "        binary source needs_compilation\n",
      "writexl  1.4.0  1.4.1              TRUE\n",
      "\n",
      "  Binaries will be installed\n",
      "package 'writexl' successfully unpacked and MD5 sums checked\n"
     ]
    },
    {
     "name": "stderr",
     "output_type": "stream",
     "text": [
      "Warning message:\n",
      "\"cannot remove prior installation of package 'writexl'\"\n",
      "Warning message in file.copy(savedcopy, lib, recursive = TRUE):\n",
      "\"problème lors de la copie de C:\\Users\\ohongnat\\Anaconda3\\Lib\\R\\library\\00LOCK\\writexl\\libs\\x64\\writexl.dll vers C:\\Users\\ohongnat\\Anaconda3\\Lib\\R\\library\\writexl\\libs\\x64\\writexl.dll: Permission denied\"\n",
      "Warning message:\n",
      "\"restored 'writexl'\"\n"
     ]
    },
    {
     "name": "stdout",
     "output_type": "stream",
     "text": [
      "\n",
      "The downloaded binary packages are in\n",
      "\tC:\\Users\\ohongnat\\AppData\\Local\\Temp\\Rtmpkna42Y\\downloaded_packages\n",
      "\n",
      "  There is a binary version available but the source version is later:\n",
      "        binary source needs_compilation\n",
      "stringr  1.4.0  1.4.1             FALSE\n",
      "\n"
     ]
    },
    {
     "name": "stderr",
     "output_type": "stream",
     "text": [
      "installing the source package 'stringr'\n",
      "\n",
      "\n",
      "Warning message:\n",
      "\"package 'data.table' was built under R version 3.6.3\"\n",
      "Warning message:\n",
      "\"package 'dplyr' was built under R version 3.6.3\"\n",
      "\n",
      "Attaching package: 'dplyr'\n",
      "\n",
      "\n",
      "The following objects are masked from 'package:data.table':\n",
      "\n",
      "    between, first, last\n",
      "\n",
      "\n",
      "The following objects are masked from 'package:stats':\n",
      "\n",
      "    filter, lag\n",
      "\n",
      "\n",
      "The following objects are masked from 'package:base':\n",
      "\n",
      "    intersect, setdiff, setequal, union\n",
      "\n",
      "\n",
      "Warning message:\n",
      "\"package 'XML' was built under R version 3.6.3\"\n",
      "Warning message:\n",
      "\"package 'xlsx' was built under R version 3.6.3\"\n",
      "Warning message:\n",
      "\"package 'writexl' was built under R version 3.6.3\"\n"
     ]
    }
   ],
   "source": [
    "### NUMBER OF DISORDERS ALIGNED\n",
    "\n",
    "\n",
    "# We launch the config file with the installation of the R libraries\n",
    "source(\"config.R\")\n",
    "\n",
    "\n",
    "# INPUTS : \"en_product1.xml\".\n",
    "\n",
    "\n",
    "# OUTPUTS : \"number_aligned_disorders_with_OMIM_or_ICD10\"; \"percentage_aligned_disorders_with_OMIM_or_ICD10\";\n",
    "# \"number_aligned_disorders_with_OMIM\"; \"percentage_aligned_disorders_with_OMIM\";\n",
    "# \"number_aligned_disorders_with_ICD10\"; \"percentage_aligned_disorders_with_ICD10\";\n",
    "# \"number_OMIM_aligned_by_exact_relationship\"; \"percentage_OMIM_aligned_by_exact_relationship\";\n",
    "# \"number_ICD10_aligned_by_exact_relationship\"; \"percentage_ICD10_aligned_by_exact_relationship\"."
   ]
  },
  {
   "cell_type": "code",
   "execution_count": 2,
   "metadata": {},
   "outputs": [],
   "source": [
    "# We open xml \"product1_en_cross_jdbor_evo\"\n",
    "product1=xmlParse(\"en_product1.xml\")\n",
    "product1=xmlToList(product1)\n",
    "\n",
    "# We remove the last element of the list, which is the numeric count of all elements of the list\n",
    "product1=product1$DisorderList\n",
    "product1=product1[-length(product1)]\n",
    "\n",
    "### Our list for working\n",
    "indice_list=1\n",
    "product=list()\n",
    "for (i in 1:length(product1))\n",
    "{\n",
    "  product[[indice_list]]=product1[[i]]\n",
    "  indice_list=indice_list+1\n",
    "}\n",
    "# Each element in the list is a disorder"
   ]
  },
  {
   "cell_type": "code",
   "execution_count": 3,
   "metadata": {},
   "outputs": [],
   "source": [
    "# We only select the active clinical entities:\n",
    "# Head of classification (flag=128), Historical entities (flag=512) & On-line (flag=1)\n",
    "indice_list=1\n",
    "all_active_clinical_entities=list()\n",
    "for (i in 1:length(product))\n",
    "  if (product[[i]]$DisorderFlagList$DisorderFlag$Value=='1' |\n",
    "      product[[i]]$DisorderFlagList$DisorderFlag$Value=='128' |\n",
    "      product[[i]]$DisorderFlagList$DisorderFlag$Value=='512')\n",
    "  {\n",
    "    all_active_clinical_entities[[indice_list]]=product[[i]]\n",
    "    indice_list=indice_list+1\n",
    "  }"
   ]
  },
  {
   "cell_type": "code",
   "execution_count": 4,
   "metadata": {},
   "outputs": [],
   "source": [
    "# We only select the disorders between the active clinical entities\n",
    "indice_list=1\n",
    "disorders=list()\n",
    "for (i in 1:length(all_active_clinical_entities))\n",
    "  if (all_active_clinical_entities[[i]]$DisorderGroup$.attrs=='36547')\n",
    "  {\n",
    "    disorders[[indice_list]]=all_active_clinical_entities[[i]]\n",
    "    indice_list=indice_list+1\n",
    "  }\n",
    "number_disorders=length(disorders)"
   ]
  },
  {
   "cell_type": "code",
   "execution_count": 5,
   "metadata": {},
   "outputs": [],
   "source": [
    "# We get all the disorders that are aligned\n",
    "indice_list=1\n",
    "aligned_disorders=list()\n",
    "for (i in 1:length(disorders))\n",
    "  if (!is.null(disorders[[i]]$ExternalReferenceList$ExternalReference$.attrs))\n",
    "  {\n",
    "    aligned_disorders[[indice_list]]=disorders[[i]]\n",
    "    indice_list=indice_list+1\n",
    "  }"
   ]
  },
  {
   "cell_type": "code",
   "execution_count": 6,
   "metadata": {},
   "outputs": [],
   "source": [
    "### We want the disorders aligned with at least one OMIM or ICD-10 \n",
    "indice_list=1\n",
    "aligned_disorders_with_OMIM_or_ICD10=list()\n",
    "for (i in 1:length(aligned_disorders))\n",
    "  for (j in 1:(length(aligned_disorders[[i]]$ExternalReferenceList)-1))\n",
    "    if (aligned_disorders[[i]]$ExternalReferenceList[[j]]$Source=='ICD-10' |\n",
    "        aligned_disorders[[i]]$ExternalReferenceList[[j]]$Source=='OMIM')\n",
    "    {\n",
    "      aligned_disorders_with_OMIM_or_ICD10[[indice_list]]=data.frame(aligned_disorders[[i]]$OrphaCode)\n",
    "      indice_list=indice_list+1\n",
    "    }\n",
    "aligned_disorders_with_OMIM_or_ICD10=rbindlist(aligned_disorders_with_OMIM_or_ICD10)\n",
    "\n",
    "# We remove duplicates\n",
    "aligned_disorders_with_OMIM_or_ICD10=aligned_disorders_with_OMIM_or_ICD10[!duplicated(aligned_disorders_with_OMIM_or_ICD10)]"
   ]
  },
  {
   "cell_type": "code",
   "execution_count": 7,
   "metadata": {},
   "outputs": [
    {
     "name": "stdout",
     "output_type": "stream",
     "text": [
      "[1] \"The number of disorders aligned with OMIM or ICD-10 is 5929\"\n"
     ]
    }
   ],
   "source": [
    "# Number of disorders with at least one OMIM or ICD-10 aligned\n",
    "number_aligned_disorders_with_OMIM_or_ICD10=nrow(aligned_disorders_with_OMIM_or_ICD10)\n",
    "print(paste0(\"The number of disorders aligned with OMIM or ICD-10 is \", number_aligned_disorders_with_OMIM_or_ICD10))"
   ]
  },
  {
   "cell_type": "code",
   "execution_count": 8,
   "metadata": {},
   "outputs": [
    {
     "name": "stdout",
     "output_type": "stream",
     "text": [
      "[1] \"The percentage of disorders aligned with OMIM or ICD-10 is 95.2143889513409%\"\n"
     ]
    }
   ],
   "source": [
    "# Percentage of disorders with at least one OMIM or ICD-10 aligned\n",
    "percentage_aligned_disorders_with_OMIM_or_ICD10=number_aligned_disorders_with_OMIM_or_ICD10/number_disorders*100\n",
    "print(paste0(\"The percentage of disorders aligned with OMIM or ICD-10 is \", percentage_aligned_disorders_with_OMIM_or_ICD10, \"%\"))"
   ]
  },
  {
   "cell_type": "code",
   "execution_count": 9,
   "metadata": {},
   "outputs": [],
   "source": [
    "### We want the disorders aligned with at least one OMIM \n",
    "indice_list=1\n",
    "aligned_disorders_with_OMIM=list()\n",
    "for (i in 1:length(aligned_disorders))\n",
    "  for (j in 1:(length(aligned_disorders[[i]]$ExternalReferenceList)-1))\n",
    "    if (aligned_disorders[[i]]$ExternalReferenceList[[j]]$Source=='OMIM')\n",
    "    {\n",
    "      aligned_disorders_with_OMIM[[indice_list]]=data.frame(aligned_disorders[[i]]$OrphaCode)\n",
    "      indice_list=indice_list+1\n",
    "    }\n",
    "aligned_disorders_with_OMIM=rbindlist(aligned_disorders_with_OMIM)\n",
    "\n",
    "# We remove duplicates\n",
    "aligned_disorders_with_OMIM=aligned_disorders_with_OMIM[!duplicated(aligned_disorders_with_OMIM)]"
   ]
  },
  {
   "cell_type": "code",
   "execution_count": 10,
   "metadata": {},
   "outputs": [
    {
     "name": "stdout",
     "output_type": "stream",
     "text": [
      "[1] \"The number of disorders aligned with OMIM is 3899\"\n"
     ]
    }
   ],
   "source": [
    "# Number of disorders with at least one OMIM\n",
    "number_aligned_disorders_with_OMIM=nrow(aligned_disorders_with_OMIM)\n",
    "print(paste0(\"The number of disorders aligned with OMIM is \", number_aligned_disorders_with_OMIM))"
   ]
  },
  {
   "cell_type": "code",
   "execution_count": 11,
   "metadata": {},
   "outputs": [
    {
     "name": "stdout",
     "output_type": "stream",
     "text": [
      "[1] \"The percentage of disorders aligned with OMIM is 62.6144210695359%\"\n"
     ]
    }
   ],
   "source": [
    "# Percentage of disorders with at least one OMIM\n",
    "percentage_aligned_disorders_with_OMIM=number_aligned_disorders_with_OMIM/number_disorders*100\n",
    "print(paste0(\"The percentage of disorders aligned with OMIM is \", percentage_aligned_disorders_with_OMIM, \"%\"))"
   ]
  },
  {
   "cell_type": "code",
   "execution_count": 12,
   "metadata": {},
   "outputs": [],
   "source": [
    "### We want the disorders aligned with at least one OMIM by an Exact relationship\n",
    "indice_list=1\n",
    "OMIM_aligned_by_exact_relationship=list()\n",
    "for (i in 1:length(aligned_disorders))\n",
    "  for (j in 1:(length(aligned_disorders[[i]]$ExternalReferenceList)-1))\n",
    "    if (aligned_disorders[[i]]$ExternalReferenceList[[j]]$Source=='OMIM' &\n",
    "        aligned_disorders[[i]]$ExternalReferenceList[[j]]$DisorderMappingRelation$Name$text=='E (Exact mapping: the two concepts are equivalent)')\n",
    "    {\n",
    "      OMIM_aligned_by_exact_relationship[[indice_list]]=data.frame(aligned_disorders[[i]]$OrphaCode)\n",
    "      indice_list=indice_list+1\n",
    "    }\n",
    "OMIM_aligned_by_exact_relationship=rbindlist(OMIM_aligned_by_exact_relationship)\n",
    "\n",
    "# We delete duplicates\n",
    "OMIM_aligned_by_exact_relationship=OMIM_aligned_by_exact_relationship[!duplicated(OMIM_aligned_by_exact_relationship)]"
   ]
  },
  {
   "cell_type": "code",
   "execution_count": 13,
   "metadata": {},
   "outputs": [
    {
     "name": "stdout",
     "output_type": "stream",
     "text": [
      "[1] \"The number of disorders aligned with at least one OMIM by an Exact relationship is 3195\"\n"
     ]
    }
   ],
   "source": [
    "# Number of disorders aligned with at least one OMIM by an Exact relationship\n",
    "number_OMIM_aligned_by_exact_relationship=nrow(OMIM_aligned_by_exact_relationship)\n",
    "print(paste0(\"The number of disorders aligned with at least one OMIM by an Exact relationship is \", number_OMIM_aligned_by_exact_relationship))"
   ]
  },
  {
   "cell_type": "code",
   "execution_count": 14,
   "metadata": {},
   "outputs": [
    {
     "name": "stdout",
     "output_type": "stream",
     "text": [
      "[1] \"The percentage of disorders aligned with at least one OMIM by an Exact relationship is 51.3088164445158%\"\n"
     ]
    }
   ],
   "source": [
    "# Percentage of disorders aligned with at least one OMIM by an Exact relationship\n",
    "percentage_OMIM_aligned_by_exact_relationship=number_OMIM_aligned_by_exact_relationship/number_disorders*100\n",
    "print(paste0(\"The percentage of disorders aligned with at least one OMIM by an Exact relationship is \", percentage_OMIM_aligned_by_exact_relationship, \"%\"))"
   ]
  },
  {
   "cell_type": "code",
   "execution_count": 15,
   "metadata": {},
   "outputs": [],
   "source": [
    "### We want the disorders aligned with at least one ICD-10\n",
    "indice_list=1\n",
    "aligned_disorders_with_ICD10=list()\n",
    "for (i in 1:length(aligned_disorders))\n",
    "  for (j in 1:(length(aligned_disorders[[i]]$ExternalReferenceList)-1))\n",
    "    if (aligned_disorders[[i]]$ExternalReferenceList[[j]]$Source=='ICD-10')\n",
    "    {\n",
    "      aligned_disorders_with_ICD10[[indice_list]]=data.frame(aligned_disorders[[i]]$OrphaCode)\n",
    "      indice_list=indice_list+1\n",
    "    }\n",
    "aligned_disorders_with_ICD10=rbindlist(aligned_disorders_with_ICD10)\n",
    "\n",
    "# We remove duplicates\n",
    "aligned_disorders_with_ICD10=aligned_disorders_with_ICD10[!duplicated(aligned_disorders_with_ICD10)]"
   ]
  },
  {
   "cell_type": "code",
   "execution_count": 16,
   "metadata": {},
   "outputs": [
    {
     "name": "stdout",
     "output_type": "stream",
     "text": [
      "[1] \"The number of disorders aligned with ICD-10 is 5666\"\n"
     ]
    }
   ],
   "source": [
    "# Number of disorders aligned with at least one ICD-10\n",
    "number_aligned_disorders_with_ICD10=nrow(aligned_disorders_with_ICD10)\n",
    "print(paste0(\"The number of disorders aligned with ICD-10 is \", number_aligned_disorders_with_ICD10))"
   ]
  },
  {
   "cell_type": "code",
   "execution_count": 17,
   "metadata": {},
   "outputs": [
    {
     "name": "stdout",
     "output_type": "stream",
     "text": [
      "[1] \"The percentage of disorders aligned with ICD-10 is 90.9908463144371%\"\n"
     ]
    }
   ],
   "source": [
    "# Percentage of disorders aligned with at least one ICD-10\n",
    "percentage_aligned_disorders_with_ICD10=number_aligned_disorders_with_ICD10/number_disorders*100\n",
    "print(paste0(\"The percentage of disorders aligned with ICD-10 is \", percentage_aligned_disorders_with_ICD10, \"%\"))"
   ]
  },
  {
   "cell_type": "code",
   "execution_count": 18,
   "metadata": {},
   "outputs": [],
   "source": [
    "### We want the disorders aligned with at least one ICD-10 by an Exact relationship\n",
    "indice_list=1\n",
    "ICD10_aligned_by_exact_relationship=list()\n",
    "for (i in 1:length(aligned_disorders))\n",
    "  for (j in 1:(length(aligned_disorders[[i]]$ExternalReferenceList)-1))\n",
    "    if (aligned_disorders[[i]]$ExternalReferenceList[[j]]$Source=='ICD-10' &\n",
    "        aligned_disorders[[i]]$ExternalReferenceList[[j]]$DisorderMappingRelation$Name$text=='E (Exact mapping: the two concepts are equivalent)')\n",
    "    {\n",
    "      ICD10_aligned_by_exact_relationship[[indice_list]]=data.frame(aligned_disorders[[i]]$OrphaCode)\n",
    "      indice_list=indice_list+1\n",
    "    }\n",
    "ICD10_aligned_by_exact_relationship=rbindlist(ICD10_aligned_by_exact_relationship)\n",
    "\n",
    "# We delete duplicates\n",
    "ICD10_aligned_by_exact_relationship=ICD10_aligned_by_exact_relationship[!duplicated(ICD10_aligned_by_exact_relationship)]"
   ]
  },
  {
   "cell_type": "code",
   "execution_count": 19,
   "metadata": {},
   "outputs": [
    {
     "name": "stdout",
     "output_type": "stream",
     "text": [
      "[1] \"The number of disorders aligned with at least one ICD-10 by an Exact relationship is 423\"\n"
     ]
    }
   ],
   "source": [
    "# Number of disorders aligned with at least one ICD-10 by an Exact relationship\n",
    "number_ICD10_aligned_by_exact_relationship=nrow(ICD10_aligned_by_exact_relationship)\n",
    "print(paste0(\"The number of disorders aligned with at least one ICD-10 by an Exact relationship is \", number_ICD10_aligned_by_exact_relationship))"
   ]
  },
  {
   "cell_type": "code",
   "execution_count": 20,
   "metadata": {},
   "outputs": [
    {
     "name": "stdout",
     "output_type": "stream",
     "text": [
      "[1] \"The percentage of disorders aligned with at least one ICD-10 by an Exact relationship is 6.79299823349928%\"\n"
     ]
    }
   ],
   "source": [
    "# Percentage of disorders aligned with at least one ICD-10 by an Exact relationship\n",
    "percentage_ICD10_aligned_by_exact_relationship=number_ICD10_aligned_by_exact_relationship/number_disorders*100\n",
    "print(paste0(\"The percentage of disorders aligned with at least one ICD-10 by an Exact relationship is \", percentage_ICD10_aligned_by_exact_relationship, \"%\"))"
   ]
  }
 ],
 "metadata": {
  "kernelspec": {
   "display_name": "R",
   "language": "R",
   "name": "ir"
  },
  "language_info": {
   "codemirror_mode": "r",
   "file_extension": ".r",
   "mimetype": "text/x-r-source",
   "name": "R",
   "pygments_lexer": "r",
   "version": "3.6.1"
  }
 },
 "nbformat": 4,
 "nbformat_minor": 4
}
