{
 "cells": [
  {
   "cell_type": "code",
   "execution_count": 1,
   "metadata": {},
   "outputs": [
    {
     "name": "stdout",
     "output_type": "stream",
     "text": [
      "\n",
      "  There is a binary version available but the source version is later:\n",
      "       binary  source needs_compilation\n",
      "rlist 0.4.6.1 0.4.6.2             FALSE\n",
      "\n"
     ]
    },
    {
     "name": "stderr",
     "output_type": "stream",
     "text": [
      "installing the source package 'rlist'\n",
      "\n",
      "\n"
     ]
    },
    {
     "name": "stdout",
     "output_type": "stream",
     "text": [
      "\n",
      "  There is a binary version available but the source version is later:\n",
      "           binary source needs_compilation\n",
      "data.table 1.14.0 1.14.2              TRUE\n",
      "\n",
      "  Binaries will be installed\n",
      "package 'data.table' successfully unpacked and MD5 sums checked\n"
     ]
    },
    {
     "name": "stderr",
     "output_type": "stream",
     "text": [
      "Warning message:\n",
      "\"cannot remove prior installation of package 'data.table'\"\n",
      "Warning message in file.copy(savedcopy, lib, recursive = TRUE):\n",
      "\"problème lors de la copie de C:\\Users\\ohongnat\\Anaconda3\\Lib\\R\\library\\00LOCK\\data.table\\libs\\x64\\datatable.dll vers C:\\Users\\ohongnat\\Anaconda3\\Lib\\R\\library\\data.table\\libs\\x64\\datatable.dll: Permission denied\"\n",
      "Warning message:\n",
      "\"restored 'data.table'\"\n"
     ]
    },
    {
     "name": "stdout",
     "output_type": "stream",
     "text": [
      "\n",
      "The downloaded binary packages are in\n",
      "\tC:\\Users\\ohongnat\\AppData\\Local\\Temp\\Rtmp0EhsKi\\downloaded_packages\n"
     ]
    },
    {
     "name": "stderr",
     "output_type": "stream",
     "text": [
      "also installing the dependencies 'cli', 'rlang', 'vctrs'\n",
      "\n",
      "\n"
     ]
    },
    {
     "name": "stdout",
     "output_type": "stream",
     "text": [
      "\n",
      "  There are binary versions available but the source versions are later:\n",
      "      binary source needs_compilation\n",
      "cli    2.5.0  3.4.1              TRUE\n",
      "rlang 0.4.11  1.0.6              TRUE\n",
      "vctrs  0.3.8  0.4.2              TRUE\n",
      "dplyr  1.0.6 1.0.10              TRUE\n",
      "\n",
      "  Binaries will be installed\n",
      "package 'cli' successfully unpacked and MD5 sums checked\n",
      "package 'rlang' successfully unpacked and MD5 sums checked\n"
     ]
    },
    {
     "name": "stderr",
     "output_type": "stream",
     "text": [
      "Warning message:\n",
      "\"cannot remove prior installation of package 'rlang'\"\n",
      "Warning message in file.copy(savedcopy, lib, recursive = TRUE):\n",
      "\"problème lors de la copie de C:\\Users\\ohongnat\\Anaconda3\\Lib\\R\\library\\00LOCK\\rlang\\libs\\x64\\rlang.dll vers C:\\Users\\ohongnat\\Anaconda3\\Lib\\R\\library\\rlang\\libs\\x64\\rlang.dll: Permission denied\"\n",
      "Warning message:\n",
      "\"restored 'rlang'\"\n"
     ]
    },
    {
     "name": "stdout",
     "output_type": "stream",
     "text": [
      "package 'vctrs' successfully unpacked and MD5 sums checked\n"
     ]
    },
    {
     "name": "stderr",
     "output_type": "stream",
     "text": [
      "Warning message:\n",
      "\"cannot remove prior installation of package 'vctrs'\"\n",
      "Warning message in file.copy(savedcopy, lib, recursive = TRUE):\n",
      "\"problème lors de la copie de C:\\Users\\ohongnat\\Anaconda3\\Lib\\R\\library\\00LOCK\\vctrs\\libs\\x64\\vctrs.dll vers C:\\Users\\ohongnat\\Anaconda3\\Lib\\R\\library\\vctrs\\libs\\x64\\vctrs.dll: Permission denied\"\n",
      "Warning message:\n",
      "\"restored 'vctrs'\"\n"
     ]
    },
    {
     "name": "stdout",
     "output_type": "stream",
     "text": [
      "package 'dplyr' successfully unpacked and MD5 sums checked\n"
     ]
    },
    {
     "name": "stderr",
     "output_type": "stream",
     "text": [
      "Warning message:\n",
      "\"cannot remove prior installation of package 'dplyr'\"\n",
      "Warning message in file.copy(savedcopy, lib, recursive = TRUE):\n",
      "\"problème lors de la copie de C:\\Users\\ohongnat\\Anaconda3\\Lib\\R\\library\\00LOCK\\dplyr\\libs\\x64\\dplyr.dll vers C:\\Users\\ohongnat\\Anaconda3\\Lib\\R\\library\\dplyr\\libs\\x64\\dplyr.dll: Permission denied\"\n",
      "Warning message:\n",
      "\"restored 'dplyr'\"\n"
     ]
    },
    {
     "name": "stdout",
     "output_type": "stream",
     "text": [
      "\n",
      "The downloaded binary packages are in\n",
      "\tC:\\Users\\ohongnat\\AppData\\Local\\Temp\\Rtmp0EhsKi\\downloaded_packages\n",
      "package 'XML' successfully unpacked and MD5 sums checked\n"
     ]
    },
    {
     "name": "stderr",
     "output_type": "stream",
     "text": [
      "Warning message:\n",
      "\"cannot remove prior installation of package 'XML'\"\n",
      "Warning message in file.copy(savedcopy, lib, recursive = TRUE):\n",
      "\"problème lors de la copie de C:\\Users\\ohongnat\\Anaconda3\\Lib\\R\\library\\00LOCK\\XML\\libs\\x64\\XML.dll vers C:\\Users\\ohongnat\\Anaconda3\\Lib\\R\\library\\XML\\libs\\x64\\XML.dll: Permission denied\"\n",
      "Warning message:\n",
      "\"restored 'XML'\"\n"
     ]
    },
    {
     "name": "stdout",
     "output_type": "stream",
     "text": [
      "\n",
      "The downloaded binary packages are in\n",
      "\tC:\\Users\\ohongnat\\AppData\\Local\\Temp\\Rtmp0EhsKi\\downloaded_packages\n"
     ]
    },
    {
     "name": "stderr",
     "output_type": "stream",
     "text": [
      "Warning message:\n",
      "\"package 'methods' is not available (for R version 3.6.1)\"\n",
      "Warning message:\n",
      "\"package 'methods' is a base package, and should not be updated\"\n"
     ]
    },
    {
     "name": "stdout",
     "output_type": "stream",
     "text": [
      "package 'xlsx' successfully unpacked and MD5 sums checked\n"
     ]
    },
    {
     "name": "stderr",
     "output_type": "stream",
     "text": [
      "Warning message:\n",
      "\"cannot remove prior installation of package 'xlsx'\"\n",
      "Warning message:\n",
      "\"restored 'xlsx'\"\n"
     ]
    },
    {
     "name": "stdout",
     "output_type": "stream",
     "text": [
      "\n",
      "The downloaded binary packages are in\n",
      "\tC:\\Users\\ohongnat\\AppData\\Local\\Temp\\Rtmp0EhsKi\\downloaded_packages\n",
      "\n",
      "  There is a binary version available but the source version is later:\n",
      "         binary source needs_compilation\n",
      "jsonlite  1.7.2  1.8.2              TRUE\n",
      "\n",
      "  Binaries will be installed\n",
      "package 'jsonlite' successfully unpacked and MD5 sums checked\n"
     ]
    },
    {
     "name": "stderr",
     "output_type": "stream",
     "text": [
      "Warning message:\n",
      "\"cannot remove prior installation of package 'jsonlite'\"\n",
      "Warning message in file.copy(savedcopy, lib, recursive = TRUE):\n",
      "\"problème lors de la copie de C:\\Users\\ohongnat\\Anaconda3\\Lib\\R\\library\\00LOCK\\jsonlite\\libs\\x64\\jsonlite.dll vers C:\\Users\\ohongnat\\Anaconda3\\Lib\\R\\library\\jsonlite\\libs\\x64\\jsonlite.dll: Permission denied\"\n",
      "Warning message:\n",
      "\"restored 'jsonlite'\"\n"
     ]
    },
    {
     "name": "stdout",
     "output_type": "stream",
     "text": [
      "\n",
      "The downloaded binary packages are in\n",
      "\tC:\\Users\\ohongnat\\AppData\\Local\\Temp\\Rtmp0EhsKi\\downloaded_packages\n",
      "package 'writexl' successfully unpacked and MD5 sums checked\n"
     ]
    },
    {
     "name": "stderr",
     "output_type": "stream",
     "text": [
      "Warning message:\n",
      "\"cannot remove prior installation of package 'writexl'\"\n",
      "Warning message in file.copy(savedcopy, lib, recursive = TRUE):\n",
      "\"problème lors de la copie de C:\\Users\\ohongnat\\Anaconda3\\Lib\\R\\library\\00LOCK\\writexl\\libs\\x64\\writexl.dll vers C:\\Users\\ohongnat\\Anaconda3\\Lib\\R\\library\\writexl\\libs\\x64\\writexl.dll: Permission denied\"\n",
      "Warning message:\n",
      "\"restored 'writexl'\"\n"
     ]
    },
    {
     "name": "stdout",
     "output_type": "stream",
     "text": [
      "\n",
      "The downloaded binary packages are in\n",
      "\tC:\\Users\\ohongnat\\AppData\\Local\\Temp\\Rtmp0EhsKi\\downloaded_packages\n",
      "\n",
      "  There is a binary version available but the source version is later:\n",
      "        binary source needs_compilation\n",
      "stringr  1.4.0  1.4.1             FALSE\n",
      "\n"
     ]
    },
    {
     "name": "stderr",
     "output_type": "stream",
     "text": [
      "installing the source package 'stringr'\n",
      "\n",
      "\n",
      "Warning message:\n",
      "\"package 'data.table' was built under R version 3.6.3\"\n",
      "Warning message:\n",
      "\"package 'dplyr' was built under R version 3.6.3\"\n",
      "\n",
      "Attaching package: 'dplyr'\n",
      "\n",
      "\n",
      "The following objects are masked from 'package:data.table':\n",
      "\n",
      "    between, first, last\n",
      "\n",
      "\n",
      "The following objects are masked from 'package:stats':\n",
      "\n",
      "    filter, lag\n",
      "\n",
      "\n",
      "The following objects are masked from 'package:base':\n",
      "\n",
      "    intersect, setdiff, setequal, union\n",
      "\n",
      "\n",
      "Warning message:\n",
      "\"package 'XML' was built under R version 3.6.3\"\n",
      "Warning message:\n",
      "\"package 'xlsx' was built under R version 3.6.3\"\n",
      "Warning message:\n",
      "\"package 'writexl' was built under R version 3.6.3\"\n"
     ]
    }
   ],
   "source": [
    "### NUMBER OF SYNONYMS AND NOMENCLATURE TERMS\n",
    "\n",
    "\n",
    "# We launch the config file with the installation of the R libraries\n",
    "source(\"config.R\")\n",
    "\n",
    "\n",
    "# INPUTS : \"fr_product1.xml\"; \n",
    "\n",
    "\n",
    "# OUTPUTS : \"total_number_synonyms\"; \"stats_total_synonyms\"; \n",
    "# \"number_synonyms_group\"; \"percentage_synonyms_group\";\"stats_synonyms_group\";\n",
    "# \"number_synonyms_disorder\"; \"percentage_synonyms_disorder\";\"stats_synonyms_disorder\";\n",
    "# \"number_synonyms_subtype\"; \"percentage_synonyms_subtype\";\"stats_synonyms_subtype\";\n",
    "# \"number_preferred_terms_group\"; \"number_nomenclature_terms_group\";\n",
    "# \"number_preferred_terms_disorder\"; \"number_nomenclature_terms_disorder\";\n",
    "# \"number_preferred_terms_subtype\"; \"number_nomenclature_terms_subtype\"; \n",
    "# \"total_number_nomenclature_terms;\""
   ]
  },
  {
   "cell_type": "code",
   "execution_count": 3,
   "metadata": {},
   "outputs": [],
   "source": [
    "# We work on the file with datas in French\n",
    "\n",
    "# We open xml \"product1_fr_cross_jdbor_evo\"\n",
    "product1=xmlParse(\"fr_product1.xml\")\n",
    "product1=xmlToList(product1)\n",
    "\n",
    "# We remove the last element of the list, which is the numeric count of all elements of the list\n",
    "product1=product1$DisorderList\n",
    "product1=product1[-length(product1)]\n",
    "\n",
    "### Our list for working\n",
    "indice_list=1\n",
    "product=list()\n",
    "for (i in 1:length(product1))\n",
    "{\n",
    "  product[[indice_list]]=product1[[i]]\n",
    "  indice_list=indice_list+1\n",
    "}\n",
    "# Each element in the list is a disorder"
   ]
  },
  {
   "cell_type": "code",
   "execution_count": 4,
   "metadata": {},
   "outputs": [],
   "source": [
    "# We previously need to select the active clinical entities:\n",
    "# Head of classification (flag=128), Historical entities (flag=512) & On-line (flag=1)\n",
    "indice_list=1\n",
    "all_active_clinical_entities=list()\n",
    "for (i in 1:length(product))\n",
    "  if (product[[i]]$DisorderFlagList$DisorderFlag$Value=='1' |\n",
    "      product[[i]]$DisorderFlagList$DisorderFlag$Value=='128' |\n",
    "      product[[i]]$DisorderFlagList$DisorderFlag$Value=='512')\n",
    "  {\n",
    "    all_active_clinical_entities[[indice_list]]=product[[i]]\n",
    "    indice_list=indice_list+1\n",
    "  }"
   ]
  },
  {
   "cell_type": "code",
   "execution_count": 5,
   "metadata": {},
   "outputs": [],
   "source": [
    "### We look for all the active clinical entities which have synonyms\n",
    "indice_list=1\n",
    "synonyms_total=list()\n",
    "for (i in 1:length(all_active_clinical_entities))\n",
    "{\n",
    "  synonyms_total[[indice_list]]=data.frame(as.numeric(all_active_clinical_entities[[i]]$SynonymList$.attrs))\n",
    "  indice_list=indice_list+1\n",
    "}\n",
    "synonyms_total=rbindlist(synonyms_total,use.names = TRUE)\n",
    "colnames(synonyms_total)=c('Number of synonyms')"
   ]
  },
  {
   "cell_type": "code",
   "execution_count": 6,
   "metadata": {},
   "outputs": [
    {
     "name": "stdout",
     "output_type": "stream",
     "text": [
      "[1] \"The number of synonyms in French is 12123\"\n"
     ]
    }
   ],
   "source": [
    "# Total number of synonyms in French\n",
    "total_number_synonyms=sum(synonyms_total)\n",
    "print(paste0(\"The number of synonyms in French is \", total_number_synonyms))"
   ]
  },
  {
   "cell_type": "code",
   "execution_count": 7,
   "metadata": {},
   "outputs": [
    {
     "data": {
      "text/plain": [
       " Number of synonyms\n",
       " Min.   : 0.000    \n",
       " 1st Qu.: 0.000    \n",
       " Median : 1.000    \n",
       " Mean   : 1.294    \n",
       " 3rd Qu.: 2.000    \n",
       " Max.   :18.000    "
      ]
     },
     "metadata": {},
     "output_type": "display_data"
    }
   ],
   "source": [
    "# Statistics about all synonyms in French\n",
    "stats_total_synonyms=summary(synonyms_total)\n",
    "stats_total_synonyms"
   ]
  },
  {
   "cell_type": "code",
   "execution_count": 8,
   "metadata": {},
   "outputs": [],
   "source": [
    "### We look for the groups of disorder which have synonyms\n",
    "indice_list=1\n",
    "synonyms_group=list()\n",
    "for (i in 1:length(all_active_clinical_entities))\n",
    "    if (all_active_clinical_entities[[i]]$DisorderGroup$.attrs=='36540')\n",
    "  {\n",
    "    synonyms_group[[indice_list]]=data.frame(as.numeric(all_active_clinical_entities[[i]]$SynonymList$.attrs))\n",
    "    indice_list=indice_list+1\n",
    "  }\n",
    "synonyms_group=rbindlist(synonyms_group,use.names = TRUE)\n",
    "colnames(synonyms_group)=c('Number of synonyms')"
   ]
  },
  {
   "cell_type": "code",
   "execution_count": 9,
   "metadata": {},
   "outputs": [
    {
     "name": "stdout",
     "output_type": "stream",
     "text": [
      "[1] \"The number of synonyms for groups of disorders in French is 1225\"\n"
     ]
    }
   ],
   "source": [
    "# Number of synonyms for groups of disorders in French\n",
    "number_synonyms_group=sum(synonyms_group)\n",
    "print(paste0(\"The number of synonyms for groups of disorders in French is \", number_synonyms_group))"
   ]
  },
  {
   "cell_type": "code",
   "execution_count": 10,
   "metadata": {},
   "outputs": [
    {
     "name": "stdout",
     "output_type": "stream",
     "text": [
      "[1] \"The percentage of synonyms for groups of disorders in French is 10.1047595479667%\"\n"
     ]
    }
   ],
   "source": [
    "# Percentage of synonyms for groups of disorders in French\n",
    "percentage_synonyms_group=number_synonyms_group/total_number_synonyms*100\n",
    "print(paste0(\"The percentage of synonyms for groups of disorders in French is \", percentage_synonyms_group, \"%\"))"
   ]
  },
  {
   "cell_type": "code",
   "execution_count": 11,
   "metadata": {},
   "outputs": [
    {
     "data": {
      "text/plain": [
       " Number of synonyms\n",
       " Min.   :0.0000    \n",
       " 1st Qu.:0.0000    \n",
       " Median :0.0000    \n",
       " Mean   :0.5757    \n",
       " 3rd Qu.:1.0000    \n",
       " Max.   :7.0000    "
      ]
     },
     "metadata": {},
     "output_type": "display_data"
    }
   ],
   "source": [
    "# Statistics about groups of disorder's synonyms in French\n",
    "stats_synonyms_group=summary(synonyms_group)\n",
    "stats_synonyms_group"
   ]
  },
  {
   "cell_type": "code",
   "execution_count": 12,
   "metadata": {},
   "outputs": [],
   "source": [
    "### We look for the disorders which have synonyms\n",
    "indice_list=1\n",
    "synonyms_disorder=list()\n",
    "for (i in 1:length(all_active_clinical_entities))\n",
    "    if (all_active_clinical_entities[[i]]$DisorderGroup$.attrs=='36547')\n",
    "  {\n",
    "    synonyms_disorder[[indice_list]]=data.frame(as.numeric(all_active_clinical_entities[[i]]$SynonymList$.attrs))\n",
    "    indice_list=indice_list+1\n",
    "  }\n",
    "synonyms_disorder=rbindlist(synonyms_disorder,use.names = TRUE)\n",
    "colnames(synonyms_disorder)=c('Number of synonyms')"
   ]
  },
  {
   "cell_type": "code",
   "execution_count": 13,
   "metadata": {},
   "outputs": [
    {
     "name": "stdout",
     "output_type": "stream",
     "text": [
      "[1] \"The number of synonyms for disorders in French is 9192\"\n"
     ]
    }
   ],
   "source": [
    "# Number of synonyms for disorders in French\n",
    "number_synonyms_disorder=sum(synonyms_disorder)\n",
    "print(paste0(\"The number of synonyms for disorders in French is \", number_synonyms_disorder))"
   ]
  },
  {
   "cell_type": "code",
   "execution_count": 14,
   "metadata": {},
   "outputs": [
    {
     "name": "stdout",
     "output_type": "stream",
     "text": [
      "[1] \"The percentage of synonyms for disorders in French is 75.8228161346201%\"\n"
     ]
    }
   ],
   "source": [
    "### Percentage of synonyms for disorders in French\n",
    "percentage_synonyms_disorder=number_synonyms_disorder/total_number_synonyms*100\n",
    "print(paste0(\"The percentage of synonyms for disorders in French is \", percentage_synonyms_disorder, \"%\"))"
   ]
  },
  {
   "cell_type": "code",
   "execution_count": 15,
   "metadata": {},
   "outputs": [
    {
     "data": {
      "text/plain": [
       " Number of synonyms\n",
       " Min.   : 0.000    \n",
       " 1st Qu.: 0.000    \n",
       " Median : 1.000    \n",
       " Mean   : 1.476    \n",
       " 3rd Qu.: 2.000    \n",
       " Max.   :18.000    "
      ]
     },
     "metadata": {},
     "output_type": "display_data"
    }
   ],
   "source": [
    "# Statistics about disorder' synonyms in French\n",
    "stats_synonyms_disorder=summary(synonyms_disorder)\n",
    "stats_synonyms_disorder"
   ]
  },
  {
   "cell_type": "code",
   "execution_count": 16,
   "metadata": {},
   "outputs": [],
   "source": [
    "### We look for the subtypes of disorder which have synonyms\n",
    "indice_list=1\n",
    "synonyms_subtype=list()\n",
    "for (i in 1:length(all_active_clinical_entities))\n",
    "    if (all_active_clinical_entities[[i]]$DisorderGroup$.attrs=='36554')\n",
    "  {\n",
    "    synonyms_subtype[[indice_list]]=data.frame(as.numeric(all_active_clinical_entities[[i]]$SynonymList$.attrs))\n",
    "    indice_list=indice_list+1\n",
    "  }\n",
    "synonyms_subtype=rbindlist(synonyms_subtype,use.names = TRUE)\n",
    "colnames(synonyms_subtype)=c('Number of synonyms')"
   ]
  },
  {
   "cell_type": "code",
   "execution_count": 17,
   "metadata": {},
   "outputs": [
    {
     "name": "stdout",
     "output_type": "stream",
     "text": [
      "[1] \"The number of synonyms for subtypes of disorders in French is 1706\"\n"
     ]
    }
   ],
   "source": [
    "# Number of synonyms for subtypes of disorders in French\n",
    "number_synonyms_subtype=sum(synonyms_subtype)\n",
    "print(paste0(\"The number of synonyms for subtypes of disorders in French is \", number_synonyms_subtype))"
   ]
  },
  {
   "cell_type": "code",
   "execution_count": 18,
   "metadata": {},
   "outputs": [
    {
     "name": "stdout",
     "output_type": "stream",
     "text": [
      "[1] \"The percentage of synonyms for subtypes of disorders in French is 14.0724243174132%\"\n"
     ]
    }
   ],
   "source": [
    "# Percentage of synonyms for subtypes of disorders in French\n",
    "percentage_synonyms_subtype=number_synonyms_subtype/total_number_synonyms*100\n",
    "print(paste0(\"The percentage of synonyms for subtypes of disorders in French is \", percentage_synonyms_subtype, \"%\"))"
   ]
  },
  {
   "cell_type": "code",
   "execution_count": 19,
   "metadata": {},
   "outputs": [
    {
     "data": {
      "text/plain": [
       " Number of synonyms\n",
       " Min.   : 0.000    \n",
       " 1st Qu.: 0.000    \n",
       " Median : 1.000    \n",
       " Mean   : 1.682    \n",
       " 3rd Qu.: 2.000    \n",
       " Max.   :15.000    "
      ]
     },
     "metadata": {},
     "output_type": "display_data"
    }
   ],
   "source": [
    "# Statistics about subtypes of disorder's synonyms in French\n",
    "stats_synonyms_subtype=summary(synonyms_subtype)\n",
    "stats_synonyms_subtype"
   ]
  },
  {
   "cell_type": "code",
   "execution_count": 20,
   "metadata": {},
   "outputs": [],
   "source": [
    "###############################################################################################\n",
    "\n",
    "\n",
    "##### Number of nomenclature terms (preferred terms + synonyms) in French\n",
    "\n",
    "\n",
    "### We look for the groups of disorder which have preferred terms\n",
    "indice_list=1\n",
    "preferred_terms_group=list()\n",
    "for (i in 1:length(all_active_clinical_entities))\n",
    "    if (all_active_clinical_entities[[i]]$DisorderGroup$.attrs=='36540')\n",
    "  {\n",
    "    preferred_terms_group[[indice_list]]=data.frame(all_active_clinical_entities[[i]]$Name$text)\n",
    "    indice_list=indice_list+1\n",
    "  }\n",
    "preferred_terms_group=rbindlist(preferred_terms_group)\n",
    "preferred_terms_group=preferred_terms_group[!duplicated(preferred_terms_group)]\n",
    "names(preferred_terms_group)=c('Preferred_terms')"
   ]
  },
  {
   "cell_type": "code",
   "execution_count": 21,
   "metadata": {},
   "outputs": [
    {
     "name": "stdout",
     "output_type": "stream",
     "text": [
      "[1] \"The number of preferred terms for groups of disorders in French is 2128\"\n"
     ]
    }
   ],
   "source": [
    "# Number of preferred terms for groups of disorder in French\n",
    "number_preferred_terms_group=nrow(preferred_terms_group)\n",
    "print(paste0(\"The number of preferred terms for groups of disorders in French is \", number_preferred_terms_group))"
   ]
  },
  {
   "cell_type": "code",
   "execution_count": 22,
   "metadata": {},
   "outputs": [
    {
     "name": "stdout",
     "output_type": "stream",
     "text": [
      "[1] \"The number of nomenclature terms for groups of disorders in French is 3353\"\n"
     ]
    }
   ],
   "source": [
    "# Number of nomenclature terms (preferred terms + synonyms) for groups of disorders in French\n",
    "number_nomenclature_terms_group=number_synonyms_group + number_preferred_terms_group\n",
    "print(paste0(\"The number of nomenclature terms for groups of disorders in French is \", number_nomenclature_terms_group))"
   ]
  },
  {
   "cell_type": "code",
   "execution_count": 23,
   "metadata": {},
   "outputs": [],
   "source": [
    "### We look for the disorders which have preferred terms\n",
    "indice_list=1\n",
    "preferred_terms_disorder=list()\n",
    "for (i in 1:length(all_active_clinical_entities))\n",
    "    if (all_active_clinical_entities[[i]]$DisorderGroup$.attrs=='36547')\n",
    "  {\n",
    "    preferred_terms_disorder[[indice_list]]=data.frame(all_active_clinical_entities[[i]]$Name$text)\n",
    "    indice_list=indice_list+1\n",
    "  }\n",
    "preferred_terms_disorder=rbindlist(preferred_terms_disorder)\n",
    "preferred_terms_disorder=preferred_terms_disorder[!duplicated(preferred_terms_disorder)]\n",
    "names(preferred_terms_disorder)=c('Preferred_terms')"
   ]
  },
  {
   "cell_type": "code",
   "execution_count": 24,
   "metadata": {},
   "outputs": [
    {
     "name": "stdout",
     "output_type": "stream",
     "text": [
      "[1] \"The number of preferred terms for disorders in French is 6227\"\n"
     ]
    }
   ],
   "source": [
    "# Number of preferred terms for disorders in French\n",
    "number_preferred_terms_disorder=nrow(preferred_terms_disorder)\n",
    "print(paste0(\"The number of preferred terms for disorders in French is \", number_preferred_terms_disorder))"
   ]
  },
  {
   "cell_type": "code",
   "execution_count": 25,
   "metadata": {},
   "outputs": [
    {
     "name": "stdout",
     "output_type": "stream",
     "text": [
      "[1] \"The number of nomenclature terms for disorders in French is 15419\"\n"
     ]
    }
   ],
   "source": [
    "# Number of nomenclature terms (preferred terms + synonyms) for disorders in French\n",
    "number_nomenclature_terms_disorder=number_synonyms_disorder + number_preferred_terms_disorder\n",
    "print(paste0(\"The number of nomenclature terms for disorders in French is \", number_nomenclature_terms_disorder))"
   ]
  },
  {
   "cell_type": "code",
   "execution_count": 26,
   "metadata": {},
   "outputs": [],
   "source": [
    "### We look for the subtypes of disorder which have preferred terms\n",
    "indice_list=1\n",
    "preferred_terms_subtype=list()\n",
    "for (i in 1:length(all_active_clinical_entities))\n",
    "  if (all_active_clinical_entities[[i]]$DisorderGroup$.attrs=='36554')\n",
    "  {\n",
    "    preferred_terms_subtype[[indice_list]]=data.frame(all_active_clinical_entities[[i]]$Name$text)\n",
    "    indice_list=indice_list+1\n",
    "  }\n",
    "preferred_terms_subtype=rbindlist(preferred_terms_subtype)\n",
    "preferred_terms_subtype=preferred_terms_subtype[!duplicated(preferred_terms_subtype)]\n",
    "names(preferred_terms_subtype)=c('Preferred_terms')"
   ]
  },
  {
   "cell_type": "code",
   "execution_count": 27,
   "metadata": {},
   "outputs": [
    {
     "name": "stdout",
     "output_type": "stream",
     "text": [
      "[1] \"The number of preferred terms for subtypes of disorders in French is 1014\"\n"
     ]
    }
   ],
   "source": [
    "# Number of preferred terms for subtypes of disorder in French\n",
    "number_preferred_terms_subtype=nrow(preferred_terms_subtype)\n",
    "print(paste0(\"The number of preferred terms for subtypes of disorders in French is \", number_preferred_terms_subtype))"
   ]
  },
  {
   "cell_type": "code",
   "execution_count": 28,
   "metadata": {},
   "outputs": [
    {
     "name": "stdout",
     "output_type": "stream",
     "text": [
      "[1] \"The number of nomenclature terms for subtypes of disorders in French is 2720\"\n"
     ]
    }
   ],
   "source": [
    "# Number of nomenclature terms (preferred terms + synonyms) for groups of disorders in French\n",
    "number_nomenclature_terms_subtype=number_synonyms_subtype + number_preferred_terms_subtype\n",
    "print(paste0(\"The number of nomenclature terms for subtypes of disorders in French is \", number_nomenclature_terms_subtype))"
   ]
  },
  {
   "cell_type": "code",
   "execution_count": 29,
   "metadata": {},
   "outputs": [
    {
     "name": "stdout",
     "output_type": "stream",
     "text": [
      "[1] \"The total number of nomenclature terms in French is 21492\"\n"
     ]
    }
   ],
   "source": [
    "### Total number of nomenclature terms for active clinical entities in French\n",
    "total_number_nomenclature_terms=number_nomenclature_terms_subtype + \n",
    "                                number_nomenclature_terms_disorder +\n",
    "                                number_nomenclature_terms_group\n",
    "print(paste0(\"The total number of nomenclature terms in French is \", total_number_nomenclature_terms))"
   ]
  }
 ],
 "metadata": {
  "kernelspec": {
   "display_name": "R",
   "language": "R",
   "name": "ir"
  },
  "language_info": {
   "codemirror_mode": "r",
   "file_extension": ".r",
   "mimetype": "text/x-r-source",
   "name": "R",
   "pygments_lexer": "r",
   "version": "3.6.1"
  }
 },
 "nbformat": 4,
 "nbformat_minor": 4
}
