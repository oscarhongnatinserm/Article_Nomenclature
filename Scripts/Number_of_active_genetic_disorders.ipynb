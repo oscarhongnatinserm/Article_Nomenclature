{
 "cells": [
  {
   "cell_type": "code",
   "execution_count": 1,
   "metadata": {},
   "outputs": [
    {
     "name": "stdout",
     "output_type": "stream",
     "text": [
      "\n",
      "  There is a binary version available but the source version is later:\n",
      "       binary  source needs_compilation\n",
      "rlist 0.4.6.1 0.4.6.2             FALSE\n",
      "\n"
     ]
    },
    {
     "name": "stderr",
     "output_type": "stream",
     "text": [
      "installing the source package 'rlist'\n",
      "\n",
      "\n"
     ]
    },
    {
     "name": "stdout",
     "output_type": "stream",
     "text": [
      "\n",
      "  There is a binary version available but the source version is later:\n",
      "           binary source needs_compilation\n",
      "data.table 1.14.0 1.14.4              TRUE\n",
      "\n",
      "  Binaries will be installed\n",
      "package 'data.table' successfully unpacked and MD5 sums checked\n",
      "\n",
      "The downloaded binary packages are in\n",
      "\tC:\\Users\\ohongnat\\AppData\\Local\\Temp\\RtmpOwBuj9\\downloaded_packages\n"
     ]
    },
    {
     "name": "stderr",
     "output_type": "stream",
     "text": [
      "also installing the dependencies 'cli', 'rlang', 'vctrs'\n",
      "\n",
      "\n"
     ]
    },
    {
     "name": "stdout",
     "output_type": "stream",
     "text": [
      "\n",
      "  There are binary versions available but the source versions are later:\n",
      "      binary source needs_compilation\n",
      "cli    2.5.0  3.4.1              TRUE\n",
      "rlang 0.4.11  1.0.6              TRUE\n",
      "vctrs  0.3.8  0.4.2              TRUE\n",
      "dplyr  1.0.6 1.0.10              TRUE\n",
      "\n",
      "  Binaries will be installed\n",
      "package 'cli' successfully unpacked and MD5 sums checked\n",
      "package 'rlang' successfully unpacked and MD5 sums checked\n",
      "package 'vctrs' successfully unpacked and MD5 sums checked\n",
      "package 'dplyr' successfully unpacked and MD5 sums checked\n",
      "\n",
      "The downloaded binary packages are in\n",
      "\tC:\\Users\\ohongnat\\AppData\\Local\\Temp\\RtmpOwBuj9\\downloaded_packages\n",
      "package 'XML' successfully unpacked and MD5 sums checked\n",
      "\n",
      "The downloaded binary packages are in\n",
      "\tC:\\Users\\ohongnat\\AppData\\Local\\Temp\\RtmpOwBuj9\\downloaded_packages\n"
     ]
    },
    {
     "name": "stderr",
     "output_type": "stream",
     "text": [
      "Warning message:\n",
      "\"package 'methods' is not available (for R version 3.6.1)\"\n",
      "Warning message:\n",
      "\"package 'methods' is a base package, and should not be updated\"\n"
     ]
    },
    {
     "name": "stdout",
     "output_type": "stream",
     "text": [
      "package 'xlsx' successfully unpacked and MD5 sums checked\n",
      "\n",
      "The downloaded binary packages are in\n",
      "\tC:\\Users\\ohongnat\\AppData\\Local\\Temp\\RtmpOwBuj9\\downloaded_packages\n",
      "\n",
      "  There is a binary version available but the source version is later:\n",
      "         binary source needs_compilation\n",
      "jsonlite  1.7.2  1.8.2              TRUE\n",
      "\n",
      "  Binaries will be installed\n",
      "package 'jsonlite' successfully unpacked and MD5 sums checked\n"
     ]
    },
    {
     "name": "stderr",
     "output_type": "stream",
     "text": [
      "Warning message:\n",
      "\"cannot remove prior installation of package 'jsonlite'\"\n",
      "Warning message in file.copy(savedcopy, lib, recursive = TRUE):\n",
      "\"problème lors de la copie de C:\\Users\\ohongnat\\Anaconda3\\Lib\\R\\library\\00LOCK\\jsonlite\\libs\\x64\\jsonlite.dll vers C:\\Users\\ohongnat\\Anaconda3\\Lib\\R\\library\\jsonlite\\libs\\x64\\jsonlite.dll: Permission denied\"\n",
      "Warning message:\n",
      "\"restored 'jsonlite'\"\n"
     ]
    },
    {
     "name": "stdout",
     "output_type": "stream",
     "text": [
      "\n",
      "The downloaded binary packages are in\n",
      "\tC:\\Users\\ohongnat\\AppData\\Local\\Temp\\RtmpOwBuj9\\downloaded_packages\n",
      "\n",
      "  There is a binary version available but the source version is later:\n",
      "        binary source needs_compilation\n",
      "writexl  1.4.0  1.4.1              TRUE\n",
      "\n",
      "  Binaries will be installed\n",
      "package 'writexl' successfully unpacked and MD5 sums checked\n",
      "\n",
      "The downloaded binary packages are in\n",
      "\tC:\\Users\\ohongnat\\AppData\\Local\\Temp\\RtmpOwBuj9\\downloaded_packages\n",
      "\n",
      "  There is a binary version available but the source version is later:\n",
      "        binary source needs_compilation\n",
      "stringr  1.4.0  1.4.1             FALSE\n",
      "\n"
     ]
    },
    {
     "name": "stderr",
     "output_type": "stream",
     "text": [
      "installing the source package 'stringr'\n",
      "\n",
      "\n",
      "Warning message:\n",
      "\"package 'data.table' was built under R version 3.6.3\"\n",
      "Warning message:\n",
      "\"package 'dplyr' was built under R version 3.6.3\"\n",
      "\n",
      "Attaching package: 'dplyr'\n",
      "\n",
      "\n",
      "The following objects are masked from 'package:data.table':\n",
      "\n",
      "    between, first, last\n",
      "\n",
      "\n",
      "The following objects are masked from 'package:stats':\n",
      "\n",
      "    filter, lag\n",
      "\n",
      "\n",
      "The following objects are masked from 'package:base':\n",
      "\n",
      "    intersect, setdiff, setequal, union\n",
      "\n",
      "\n",
      "Warning message:\n",
      "\"package 'XML' was built under R version 3.6.3\"\n",
      "Warning message:\n",
      "\"package 'xlsx' was built under R version 3.6.3\"\n",
      "Warning message:\n",
      "\"package 'writexl' was built under R version 3.6.3\"\n"
     ]
    }
   ],
   "source": [
    "### NUMBER OF ACTIVE GENETIC DISORDERS\n",
    "\n",
    "\n",
    "# We launch the config file with the installation of the R libraries\n",
    "source(\"config.R\")\n",
    "\n",
    "\n",
    "# INPUTS : \"en_product1.xml\"; \"en_product3_156.xml\".\n",
    "\n",
    "\n",
    "# OUTPUTS : \"number_of_active_genetic_disorders\"; \"number_of_non_active_genetic_disorders\";\n",
    "# percentage_of_active_genetic_disorders\"; \"percentage_of_non_active_genetic_disorders\"."
   ]
  },
  {
   "cell_type": "code",
   "execution_count": 2,
   "metadata": {},
   "outputs": [],
   "source": [
    "### Later we will need to get the number of total disorders for the calculations\n",
    "\n",
    "# We open xml \"product1_en_cross_jdbor_evo\" that contains these datas\n",
    "product1=xmlParse(\"en_product1.xml\")\n",
    "product1=xmlToList(product1)\n",
    "\n",
    "# We remove the last element of the list, which is the numeric count of all elements of the list\n",
    "product1=product1$DisorderList\n",
    "product1=product1[-length(product1)]\n",
    "\n",
    "### Our list for working\n",
    "indice_list=1\n",
    "product=list()\n",
    "for (i in 1:length(product1))\n",
    "{\n",
    "  product[[indice_list]]=product1[[i]]\n",
    "  indice_list=indice_list+1\n",
    "}\n",
    "# Each element in the list is a disorder"
   ]
  },
  {
   "cell_type": "code",
   "execution_count": 3,
   "metadata": {},
   "outputs": [],
   "source": [
    "# We only select the active clinical entities:\n",
    "# Head of classification (flag=128), Historical entities (flag=512) & On-line (flag=1)\n",
    "indice_list=1\n",
    "all_active_clinical_entities=list()\n",
    "for (i in 1:length(product))\n",
    "  if (product[[i]]$DisorderFlagList$DisorderFlag$Value=='1' |\n",
    "      product[[i]]$DisorderFlagList$DisorderFlag$Value=='128' |\n",
    "      product[[i]]$DisorderFlagList$DisorderFlag$Value=='512')\n",
    "  {\n",
    "    all_active_clinical_entities[[indice_list]]=product[[i]]\n",
    "    indice_list=indice_list+1\n",
    "  }"
   ]
  },
  {
   "cell_type": "code",
   "execution_count": 4,
   "metadata": {},
   "outputs": [
    {
     "name": "stdout",
     "output_type": "stream",
     "text": [
      "[1] \"The number of disorders is 6227\"\n"
     ]
    }
   ],
   "source": [
    "### Number of disorders\n",
    "indice_list=1\n",
    "disorders=list()\n",
    "for (i in 1:length(all_active_clinical_entities))\n",
    "  if (all_active_clinical_entities[[i]]$DisorderGroup$.attrs=='36547')\n",
    "  {\n",
    "    disorders[[indice_list]]=all_active_clinical_entities[[i]]\n",
    "    indice_list=indice_list+1\n",
    "  }\n",
    "number_disorders=length(disorders)\n",
    "print(paste0(\"The number of disorders is \", number_disorders))"
   ]
  },
  {
   "cell_type": "code",
   "execution_count": 5,
   "metadata": {},
   "outputs": [],
   "source": [
    "# We can now work on the genetic datas\n",
    "\n",
    "# We open the xml \"product3_156_en_jdbor_evo.xml\" that contains the genetic disorders\n",
    "xmlfiles = list.files(pattern='product3_156')\n",
    "xmldoc=xmlParse(file=xmlfiles)\n",
    "xml_156=xmlToList(xmldoc)\n",
    "\n",
    "# We get the Classification information\n",
    "prod_genetic=as.list(unlist(xml_156$ClassificationList))\n",
    "# Each element in the list is a disorder"
   ]
  },
  {
   "cell_type": "code",
   "execution_count": 6,
   "metadata": {},
   "outputs": [],
   "source": [
    "# We get the OrphaCode and the DisorderType for each disorder\n",
    "disordertype = list()\n",
    "orpha = list()\n",
    "indice_orpha = 1\n",
    "indice_disordertype = 1\n",
    "for (i in 1:length(prod_genetic))\n",
    "  if (grepl(\"Disorder.OrphaCode\", names(prod_genetic[i]))) {\n",
    "    orpha[[indice_orpha]] = data.frame(orpha = prod_genetic[i])\n",
    "    names(orpha[[indice_orpha]]) = c('orpha')\n",
    "    indice_orpha = indice_orpha + 1\n",
    "  } else if (grepl(\"DisorderType..attrs.id\", names(prod_genetic[i]))) {\n",
    "    disordertype[[indice_disordertype]] = data.frame(disordertype = prod_genetic[i])\n",
    "    names(disordertype[[indice_disordertype]]) = c('disordertype')\n",
    "    indice_disordertype = indice_disordertype + 1\n",
    "  } \n",
    "\n",
    "disordertype = rbindlist(disordertype)\n",
    "orpha = rbindlist(orpha)"
   ]
  },
  {
   "cell_type": "code",
   "execution_count": 7,
   "metadata": {},
   "outputs": [],
   "source": [
    "# We only keep Disorders\n",
    "disorders = cbind.data.frame(orpha, disordertype)\n",
    "disorders = filter(disorders, disordertype == \"21429\" |\n",
    "                     disordertype == \"21401\" |\n",
    "                     disordertype == \"21415\" |\n",
    "                     disordertype == \"21394\" |\n",
    "                     disordertype == \"21422\" |\n",
    "                     disordertype == \"21408\")\n",
    "\n",
    "disorders = filter(disorders, !duplicated(disorders))"
   ]
  },
  {
   "cell_type": "code",
   "execution_count": 8,
   "metadata": {},
   "outputs": [
    {
     "data": {
      "text/html": [
       "4521"
      ],
      "text/latex": [
       "4521"
      ],
      "text/markdown": [
       "4521"
      ],
      "text/plain": [
       "[1] 4521"
      ]
     },
     "metadata": {},
     "output_type": "display_data"
    },
    {
     "name": "stdout",
     "output_type": "stream",
     "text": [
      "[1] \"The number of genetic disorders is 4521\"\n"
     ]
    }
   ],
   "source": [
    "# Then we finaly get the number of genetic disorders\n",
    "number_of_active_genetic_disorders=nrow(disorders)\n",
    "print(paste0(\"The number of genetic disorders is \", number_of_active_genetic_disorders))"
   ]
  },
  {
   "cell_type": "code",
   "execution_count": 9,
   "metadata": {},
   "outputs": [
    {
     "data": {
      "text/html": [
       "1706"
      ],
      "text/latex": [
       "1706"
      ],
      "text/markdown": [
       "1706"
      ],
      "text/plain": [
       "[1] 1706"
      ]
     },
     "metadata": {},
     "output_type": "display_data"
    },
    {
     "name": "stdout",
     "output_type": "stream",
     "text": [
      "[1] \"The number of non-genetic disorders is 1706\"\n"
     ]
    }
   ],
   "source": [
    "# And the number of non genetic disorders\n",
    "number_of_non_active_genetic_disorders=number_disorders - number_of_active_genetic_disorders\n",
    "print(paste0(\"The number of non-genetic disorders is \", number_of_non_active_genetic_disorders))"
   ]
  },
  {
   "cell_type": "code",
   "execution_count": 10,
   "metadata": {},
   "outputs": [
    {
     "data": {
      "text/html": [
       "72.6031797013008"
      ],
      "text/latex": [
       "72.6031797013008"
      ],
      "text/markdown": [
       "72.6031797013008"
      ],
      "text/plain": [
       "[1] 72.60318"
      ]
     },
     "metadata": {},
     "output_type": "display_data"
    },
    {
     "name": "stdout",
     "output_type": "stream",
     "text": [
      "[1] \"The percentage of genetic disorders is 72.6031797013008%\"\n"
     ]
    }
   ],
   "source": [
    "# Percentage of genetic disorders\n",
    "percentage_of_active_genetic_disorders=number_of_active_genetic_disorders/number_disorders*100\n",
    "print(paste0(\"The percentage of genetic disorders is \", percentage_of_active_genetic_disorders, \"%\"))"
   ]
  },
  {
   "cell_type": "code",
   "execution_count": 11,
   "metadata": {},
   "outputs": [
    {
     "data": {
      "text/html": [
       "27.3968202986992"
      ],
      "text/latex": [
       "27.3968202986992"
      ],
      "text/markdown": [
       "27.3968202986992"
      ],
      "text/plain": [
       "[1] 27.39682"
      ]
     },
     "metadata": {},
     "output_type": "display_data"
    },
    {
     "name": "stdout",
     "output_type": "stream",
     "text": [
      "[1] \"The percentage of non-genetic disorders is 27.3968202986992%\"\n"
     ]
    }
   ],
   "source": [
    "# Percentage of non genetic disorders\n",
    "percentage_of_non_active_genetic_disorders=number_of_non_active_genetic_disorders/number_disorders*100\n",
    "print(paste0(\"The percentage of non-genetic disorders is \", percentage_of_non_active_genetic_disorders, \"%\"))"
   ]
  }
 ],
 "metadata": {
  "kernelspec": {
   "display_name": "R",
   "language": "R",
   "name": "ir"
  },
  "language_info": {
   "codemirror_mode": "r",
   "file_extension": ".r",
   "mimetype": "text/x-r-source",
   "name": "R",
   "pygments_lexer": "r",
   "version": "3.6.1"
  }
 },
 "nbformat": 4,
 "nbformat_minor": 4
}
