{
 "cells": [
  {
   "cell_type": "code",
   "execution_count": 1,
   "metadata": {},
   "outputs": [
    {
     "name": "stdout",
     "output_type": "stream",
     "text": [
      "\n",
      "  There is a binary version available but the source version is later:\n",
      "       binary  source needs_compilation\n",
      "rlist 0.4.6.1 0.4.6.2             FALSE\n",
      "\n"
     ]
    },
    {
     "name": "stderr",
     "output_type": "stream",
     "text": [
      "installing the source package 'rlist'\n",
      "\n",
      "\n"
     ]
    },
    {
     "name": "stdout",
     "output_type": "stream",
     "text": [
      "\n",
      "  There is a binary version available but the source version is later:\n",
      "           binary source needs_compilation\n",
      "data.table 1.14.0 1.14.4              TRUE\n",
      "\n",
      "  Binaries will be installed\n",
      "package 'data.table' successfully unpacked and MD5 sums checked\n"
     ]
    },
    {
     "name": "stderr",
     "output_type": "stream",
     "text": [
      "Warning message:\n",
      "\"cannot remove prior installation of package 'data.table'\"\n",
      "Warning message in file.copy(savedcopy, lib, recursive = TRUE):\n",
      "\"problème lors de la copie de C:\\Users\\ohongnat\\Anaconda3\\Lib\\R\\library\\00LOCK\\data.table\\libs\\x64\\datatable.dll vers C:\\Users\\ohongnat\\Anaconda3\\Lib\\R\\library\\data.table\\libs\\x64\\datatable.dll: Permission denied\"\n",
      "Warning message:\n",
      "\"restored 'data.table'\"\n"
     ]
    },
    {
     "name": "stdout",
     "output_type": "stream",
     "text": [
      "\n",
      "The downloaded binary packages are in\n",
      "\tC:\\Users\\ohongnat\\AppData\\Local\\Temp\\Rtmpo3KpH1\\downloaded_packages\n"
     ]
    },
    {
     "name": "stderr",
     "output_type": "stream",
     "text": [
      "also installing the dependencies 'cli', 'rlang', 'vctrs'\n",
      "\n",
      "\n"
     ]
    },
    {
     "name": "stdout",
     "output_type": "stream",
     "text": [
      "\n",
      "  There are binary versions available but the source versions are later:\n",
      "      binary source needs_compilation\n",
      "cli    2.5.0  3.4.1              TRUE\n",
      "rlang 0.4.11  1.0.6              TRUE\n",
      "vctrs  0.3.8  0.4.2              TRUE\n",
      "dplyr  1.0.6 1.0.10              TRUE\n",
      "\n",
      "  Binaries will be installed\n",
      "package 'cli' successfully unpacked and MD5 sums checked\n",
      "package 'rlang' successfully unpacked and MD5 sums checked\n"
     ]
    },
    {
     "name": "stderr",
     "output_type": "stream",
     "text": [
      "Warning message:\n",
      "\"cannot remove prior installation of package 'rlang'\"\n",
      "Warning message in file.copy(savedcopy, lib, recursive = TRUE):\n",
      "\"problème lors de la copie de C:\\Users\\ohongnat\\Anaconda3\\Lib\\R\\library\\00LOCK\\rlang\\libs\\x64\\rlang.dll vers C:\\Users\\ohongnat\\Anaconda3\\Lib\\R\\library\\rlang\\libs\\x64\\rlang.dll: Permission denied\"\n",
      "Warning message:\n",
      "\"restored 'rlang'\"\n"
     ]
    },
    {
     "name": "stdout",
     "output_type": "stream",
     "text": [
      "package 'vctrs' successfully unpacked and MD5 sums checked\n"
     ]
    },
    {
     "name": "stderr",
     "output_type": "stream",
     "text": [
      "Warning message:\n",
      "\"cannot remove prior installation of package 'vctrs'\"\n",
      "Warning message in file.copy(savedcopy, lib, recursive = TRUE):\n",
      "\"problème lors de la copie de C:\\Users\\ohongnat\\Anaconda3\\Lib\\R\\library\\00LOCK\\vctrs\\libs\\x64\\vctrs.dll vers C:\\Users\\ohongnat\\Anaconda3\\Lib\\R\\library\\vctrs\\libs\\x64\\vctrs.dll: Permission denied\"\n",
      "Warning message:\n",
      "\"restored 'vctrs'\"\n"
     ]
    },
    {
     "name": "stdout",
     "output_type": "stream",
     "text": [
      "package 'dplyr' successfully unpacked and MD5 sums checked\n"
     ]
    },
    {
     "name": "stderr",
     "output_type": "stream",
     "text": [
      "Warning message:\n",
      "\"cannot remove prior installation of package 'dplyr'\"\n",
      "Warning message in file.copy(savedcopy, lib, recursive = TRUE):\n",
      "\"problème lors de la copie de C:\\Users\\ohongnat\\Anaconda3\\Lib\\R\\library\\00LOCK\\dplyr\\libs\\x64\\dplyr.dll vers C:\\Users\\ohongnat\\Anaconda3\\Lib\\R\\library\\dplyr\\libs\\x64\\dplyr.dll: Permission denied\"\n",
      "Warning message:\n",
      "\"restored 'dplyr'\"\n"
     ]
    },
    {
     "name": "stdout",
     "output_type": "stream",
     "text": [
      "\n",
      "The downloaded binary packages are in\n",
      "\tC:\\Users\\ohongnat\\AppData\\Local\\Temp\\Rtmpo3KpH1\\downloaded_packages\n",
      "package 'XML' successfully unpacked and MD5 sums checked\n"
     ]
    },
    {
     "name": "stderr",
     "output_type": "stream",
     "text": [
      "Warning message:\n",
      "\"cannot remove prior installation of package 'XML'\"\n",
      "Warning message in file.copy(savedcopy, lib, recursive = TRUE):\n",
      "\"problème lors de la copie de C:\\Users\\ohongnat\\Anaconda3\\Lib\\R\\library\\00LOCK\\XML\\libs\\x64\\XML.dll vers C:\\Users\\ohongnat\\Anaconda3\\Lib\\R\\library\\XML\\libs\\x64\\XML.dll: Permission denied\"\n",
      "Warning message:\n",
      "\"restored 'XML'\"\n"
     ]
    },
    {
     "name": "stdout",
     "output_type": "stream",
     "text": [
      "\n",
      "The downloaded binary packages are in\n",
      "\tC:\\Users\\ohongnat\\AppData\\Local\\Temp\\Rtmpo3KpH1\\downloaded_packages\n"
     ]
    },
    {
     "name": "stderr",
     "output_type": "stream",
     "text": [
      "Warning message:\n",
      "\"package 'methods' is not available (for R version 3.6.1)\"\n",
      "Warning message:\n",
      "\"package 'methods' is a base package, and should not be updated\"\n"
     ]
    },
    {
     "name": "stdout",
     "output_type": "stream",
     "text": [
      "package 'xlsx' successfully unpacked and MD5 sums checked\n"
     ]
    },
    {
     "name": "stderr",
     "output_type": "stream",
     "text": [
      "Warning message:\n",
      "\"cannot remove prior installation of package 'xlsx'\"\n",
      "Warning message:\n",
      "\"restored 'xlsx'\"\n"
     ]
    },
    {
     "name": "stdout",
     "output_type": "stream",
     "text": [
      "\n",
      "The downloaded binary packages are in\n",
      "\tC:\\Users\\ohongnat\\AppData\\Local\\Temp\\Rtmpo3KpH1\\downloaded_packages\n",
      "\n",
      "  There is a binary version available but the source version is later:\n",
      "         binary source needs_compilation\n",
      "jsonlite  1.7.2  1.8.2              TRUE\n",
      "\n",
      "  Binaries will be installed\n",
      "package 'jsonlite' successfully unpacked and MD5 sums checked\n"
     ]
    },
    {
     "name": "stderr",
     "output_type": "stream",
     "text": [
      "Warning message:\n",
      "\"cannot remove prior installation of package 'jsonlite'\"\n",
      "Warning message in file.copy(savedcopy, lib, recursive = TRUE):\n",
      "\"problème lors de la copie de C:\\Users\\ohongnat\\Anaconda3\\Lib\\R\\library\\00LOCK\\jsonlite\\libs\\x64\\jsonlite.dll vers C:\\Users\\ohongnat\\Anaconda3\\Lib\\R\\library\\jsonlite\\libs\\x64\\jsonlite.dll: Permission denied\"\n",
      "Warning message:\n",
      "\"restored 'jsonlite'\"\n"
     ]
    },
    {
     "name": "stdout",
     "output_type": "stream",
     "text": [
      "\n",
      "The downloaded binary packages are in\n",
      "\tC:\\Users\\ohongnat\\AppData\\Local\\Temp\\Rtmpo3KpH1\\downloaded_packages\n",
      "\n",
      "  There is a binary version available but the source version is later:\n",
      "        binary source needs_compilation\n",
      "writexl  1.4.0  1.4.1              TRUE\n",
      "\n",
      "  Binaries will be installed\n",
      "package 'writexl' successfully unpacked and MD5 sums checked\n"
     ]
    },
    {
     "name": "stderr",
     "output_type": "stream",
     "text": [
      "Warning message:\n",
      "\"cannot remove prior installation of package 'writexl'\"\n",
      "Warning message in file.copy(savedcopy, lib, recursive = TRUE):\n",
      "\"problème lors de la copie de C:\\Users\\ohongnat\\Anaconda3\\Lib\\R\\library\\00LOCK\\writexl\\libs\\x64\\writexl.dll vers C:\\Users\\ohongnat\\Anaconda3\\Lib\\R\\library\\writexl\\libs\\x64\\writexl.dll: Permission denied\"\n",
      "Warning message:\n",
      "\"restored 'writexl'\"\n"
     ]
    },
    {
     "name": "stdout",
     "output_type": "stream",
     "text": [
      "\n",
      "The downloaded binary packages are in\n",
      "\tC:\\Users\\ohongnat\\AppData\\Local\\Temp\\Rtmpo3KpH1\\downloaded_packages\n",
      "\n",
      "  There is a binary version available but the source version is later:\n",
      "        binary source needs_compilation\n",
      "stringr  1.4.0  1.4.1             FALSE\n",
      "\n"
     ]
    },
    {
     "name": "stderr",
     "output_type": "stream",
     "text": [
      "installing the source package 'stringr'\n",
      "\n",
      "\n",
      "Warning message:\n",
      "\"package 'data.table' was built under R version 3.6.3\"\n",
      "Warning message:\n",
      "\"package 'dplyr' was built under R version 3.6.3\"\n",
      "\n",
      "Attaching package: 'dplyr'\n",
      "\n",
      "\n",
      "The following objects are masked from 'package:data.table':\n",
      "\n",
      "    between, first, last\n",
      "\n",
      "\n",
      "The following objects are masked from 'package:stats':\n",
      "\n",
      "    filter, lag\n",
      "\n",
      "\n",
      "The following objects are masked from 'package:base':\n",
      "\n",
      "    intersect, setdiff, setequal, union\n",
      "\n",
      "\n",
      "Warning message:\n",
      "\"package 'XML' was built under R version 3.6.3\"\n",
      "Warning message:\n",
      "\"package 'xlsx' was built under R version 3.6.3\"\n",
      "Warning message:\n",
      "\"package 'writexl' was built under R version 3.6.3\"\n"
     ]
    }
   ],
   "source": [
    "### NUMBER OF DISORDERS UNICLASSIFIED VS MULTICLASSIFIED\n",
    "\n",
    "\n",
    "# We launch the config file with the installation of the R libraries\n",
    "source(\"config.R\")\n",
    "\n",
    "\n",
    "# INPUTS : all products3\n",
    "\n",
    "\n",
    "\n",
    "# OUTPUTS : \"number_of_disorders_multiclassified\"; \"percentage_of_number_of_disorders_multiclassified\";\n",
    "# \"number_of_disorders_uniclassified\"; \"percentage_of_number_of_disorders_uniclassified\"."
   ]
  },
  {
   "cell_type": "code",
   "execution_count": 2,
   "metadata": {},
   "outputs": [],
   "source": [
    "# Open different xml in the same time\n",
    "# We select the xmls with the datas we need\n",
    "xmlfiles=list.files(pattern='product3')\n",
    "# We remove the datas about genetic disorders, they have no interest here\n",
    "xmlfiles=xmlfiles[!xmlfiles=='en_product3_156.xml']\n",
    "\n",
    "# We put the xml files from  orphadata in data frames\n",
    "indice_list=1\n",
    "xmldoc=list()\n",
    "products3=list()\n",
    "for (i in 1:length(xmlfiles)) \n",
    "{\n",
    "  xmldoc[[indice_list]]=xmlParse(xmlfiles[i]) \n",
    "  products3[[indice_list]]=xmlToList(xmldoc[[indice_list]])\n",
    "  indice_list=indice_list+1\n",
    "}"
   ]
  },
  {
   "cell_type": "code",
   "execution_count": 3,
   "metadata": {},
   "outputs": [],
   "source": [
    "# We get the Classification information\n",
    "prods3=list()\n",
    "for (i in 1:length(products3))\n",
    "{\n",
    "  prods3[[i]]=unlist(products3[[i]]$ClassificationList)\n",
    "}\n",
    "# Each element in the list is a disorder"
   ]
  },
  {
   "cell_type": "code",
   "execution_count": 4,
   "metadata": {},
   "outputs": [],
   "source": [
    "# We get the OrphaCode and the DisorderType for each disorder\n",
    "disordertype = list()\n",
    "OrphaCode = list()\n",
    "indice_orpha = 1\n",
    "indice_disordertype = 1\n",
    "for (i in 1:length(prods3))\n",
    "  for (j in 1:length(prods3[[i]])) \n",
    "    if (grepl(\"Disorder.OrphaCode\", names(prods3[[i]][j]))) {\n",
    "      OrphaCode[[indice_orpha]] = data.frame(classification = prods3[[i]][2],\n",
    "                                             OrphaCode = prods3[[i]][j])\n",
    "      indice_orpha = indice_orpha + 1\n",
    "    } else if (grepl(\"DisorderType..attrs.id\", names(prods3[[i]][j]))) {\n",
    "      disordertype[[indice_disordertype]] = data.frame(classification = prods3[[i]][2],\n",
    "                                                       disordertype = prods3[[i]][j])\n",
    "      indice_disordertype = indice_disordertype + 1\n",
    "    } \n",
    "\n",
    "disordertype = rbindlist(disordertype)\n",
    "OrphaCode = rbindlist(OrphaCode)"
   ]
  },
  {
   "cell_type": "code",
   "execution_count": 5,
   "metadata": {},
   "outputs": [],
   "source": [
    "# We only keep Disorders\n",
    "disorders = cbind.data.frame(OrphaCode, disordertype = disordertype$disordertype)\n",
    "\n",
    "disorders = filter(disorders, !duplicated(disorders))\n",
    "disorders = filter(disorders, disordertype == \"21429\" |\n",
    "                     disordertype == \"21401\" |\n",
    "                     disordertype == \"21415\" |\n",
    "                     disordertype == \"21394\" |\n",
    "                     disordertype == \"21422\" |\n",
    "                     disordertype == \"21408\")"
   ]
  },
  {
   "cell_type": "code",
   "execution_count": 20,
   "metadata": {},
   "outputs": [],
   "source": [
    "# We count how much times an OrphaCode is duplicated\n",
    "table_count=as.data.frame(table(disorders$OrphaCode))\n",
    "names(table_count)=c('OrphaCode','Number of classifications')\n",
    "table_count=filter(table_count, `Number of classifications` > 0)"
   ]
  },
  {
   "cell_type": "code",
   "execution_count": 21,
   "metadata": {},
   "outputs": [],
   "source": [
    "# We look for ORPHAcodes which are duplicated at least once\n",
    "indice_list=1\n",
    "duplicates=list()\n",
    "for (i in 1:nrow(table_count))\n",
    "  if (table_count$`Number of classifications`[i] > 1)\n",
    "  {\n",
    "    duplicates[[indice_list]]=table_count[i, ]\n",
    "    indice_list=indice_list+1\n",
    "  }\n",
    "duplicates=rbindlist(duplicates,use.names = TRUE)"
   ]
  },
  {
   "cell_type": "code",
   "execution_count": 22,
   "metadata": {},
   "outputs": [
    {
     "data": {
      "text/html": [
       "4186"
      ],
      "text/latex": [
       "4186"
      ],
      "text/markdown": [
       "4186"
      ],
      "text/plain": [
       "[1] 4186"
      ]
     },
     "metadata": {},
     "output_type": "display_data"
    },
    {
     "name": "stdout",
     "output_type": "stream",
     "text": [
      "[1] \"The number of disorders multiclassified is 4186\"\n"
     ]
    }
   ],
   "source": [
    "# Number of disorders multiclassified\n",
    "number_of_disorders_multiclassified=nrow(duplicates)\n",
    "print(paste0(\"The number of disorders multiclassified is \", number_of_disorders_multiclassified))"
   ]
  },
  {
   "cell_type": "code",
   "execution_count": 23,
   "metadata": {},
   "outputs": [
    {
     "data": {
      "text/html": [
       "67.3098568901753"
      ],
      "text/latex": [
       "67.3098568901753"
      ],
      "text/markdown": [
       "67.3098568901753"
      ],
      "text/plain": [
       "[1] 67.30986"
      ]
     },
     "metadata": {},
     "output_type": "display_data"
    },
    {
     "name": "stdout",
     "output_type": "stream",
     "text": [
      "[1] \"The percentage of disorders multiclassified is 67.3098568901753%\"\n"
     ]
    }
   ],
   "source": [
    "# Percentage of disorders multiclassified\n",
    "percentage_of_number_of_disorders_multiclassified=number_of_disorders_multiclassified/nrow(table_count)*100\n",
    "print(paste0(\"The percentage of disorders multiclassified is \", percentage_of_number_of_disorders_multiclassified, \"%\"))"
   ]
  },
  {
   "cell_type": "code",
   "execution_count": 24,
   "metadata": {},
   "outputs": [
    {
     "data": {
      "text/html": [
       "2033"
      ],
      "text/latex": [
       "2033"
      ],
      "text/markdown": [
       "2033"
      ],
      "text/plain": [
       "[1] 2033"
      ]
     },
     "metadata": {},
     "output_type": "display_data"
    },
    {
     "name": "stdout",
     "output_type": "stream",
     "text": [
      "[1] \"The number of disorders uniclassified is 2033\"\n"
     ]
    }
   ],
   "source": [
    "# Number of disorders uniclassified\n",
    "number_of_disorders_uniclassified=nrow(table_count) - number_of_disorders_multiclassified\n",
    "print(paste0(\"The number of disorders uniclassified is \", number_of_disorders_uniclassified))"
   ]
  },
  {
   "cell_type": "code",
   "execution_count": 25,
   "metadata": {},
   "outputs": [
    {
     "data": {
      "text/html": [
       "32.6901431098247"
      ],
      "text/latex": [
       "32.6901431098247"
      ],
      "text/markdown": [
       "32.6901431098247"
      ],
      "text/plain": [
       "[1] 32.69014"
      ]
     },
     "metadata": {},
     "output_type": "display_data"
    },
    {
     "name": "stdout",
     "output_type": "stream",
     "text": [
      "[1] \"The percentage of disorders uniclassified is 32.6901431098247%\"\n"
     ]
    }
   ],
   "source": [
    "# Percentage of disorders uniclassified\n",
    "percentage_of_number_of_disorders_uniclassified=number_of_disorders_uniclassified/nrow(table_count)*100\n",
    "print(paste0(\"The percentage of disorders uniclassified is \", percentage_of_number_of_disorders_uniclassified, \"%\"))"
   ]
  },
  {
   "cell_type": "code",
   "execution_count": 19,
   "metadata": {},
   "outputs": [
    {
     "data": {
      "text/plain": [
       "   Min. 1st Qu.  Median    Mean 3rd Qu.    Max. \n",
       "  1.000   1.000   2.000   2.303   3.000  13.000 "
      ]
     },
     "metadata": {},
     "output_type": "display_data"
    }
   ],
   "source": [
    "### Stats : min/max, mean, median of the number of classifications for the disorders\n",
    "summary(table_count$`Number of classifications`)"
   ]
  }
 ],
 "metadata": {
  "kernelspec": {
   "display_name": "R",
   "language": "R",
   "name": "ir"
  },
  "language_info": {
   "codemirror_mode": "r",
   "file_extension": ".r",
   "mimetype": "text/x-r-source",
   "name": "R",
   "pygments_lexer": "r",
   "version": "3.6.1"
  }
 },
 "nbformat": 4,
 "nbformat_minor": 4
}
